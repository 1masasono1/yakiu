{
 "cells": [
  {
   "cell_type": "markdown",
   "metadata": {
    "ExecuteTime": {
     "end_time": "2020-05-08T02:04:32.315749Z",
     "start_time": "2020-05-08T02:04:32.312749Z"
    }
   },
   "source": [
    "# ライブラリの読み込み"
   ]
  },
  {
   "cell_type": "code",
   "execution_count": 1,
   "metadata": {
    "ExecuteTime": {
     "end_time": "2020-05-11T15:33:44.826592Z",
     "start_time": "2020-05-11T15:33:43.753411Z"
    }
   },
   "outputs": [],
   "source": [
    "#データ加工でよく使うやつ\n",
    "import datetime  # 日付,時刻の処理\n",
    "import yaml  # yamlファイル操作\n",
    "import re  # 正規表現操作\n",
    "import shutil  # ファイル操作\n",
    "import glob  # ファイル操作\n",
    "import os  # ファイル操作\n",
    "import seaborn as sns  # グラフ描画\n",
    "import pandas as pd  # データ加工入出力,DataFlame\n",
    "import numpy as np  # 行列計算\n",
    "import scipy as sp  # 科学技術計算\n",
    "import pickle\n",
    "import matplotlib.pyplot as plt\n",
    "%matplotlib inline\n",
    "\n",
    "pd.set_option('display.max_columns', 200)\n",
    "pd.set_option('display.max_rows', 200)\n",
    "\n",
    "#モデリング\n",
    "from sklearn.model_selection import train_test_split # 訓練データとテストデータの分割を行うライブラリ\n",
    "from sklearn import tree\n",
    "from sklearn.ensemble import RandomForestClassifier\n",
    "from sklearn.metrics import roc_curve, auc  # 評価指標\n",
    "# KFold交差検証のライブラリ、交差検証のスコアを求めるライブラリ、および交差検証による予測に関するライブラリをimport\n",
    "from sklearn.model_selection import KFold, cross_val_score\n",
    "from sklearn.model_selection import GridSearchCV\n",
    "import lightgbm as lgb"
   ]
  },
  {
   "cell_type": "code",
   "execution_count": 2,
   "metadata": {
    "ExecuteTime": {
     "end_time": "2020-05-11T15:33:46.246375Z",
     "start_time": "2020-05-11T15:33:45.496841Z"
    }
   },
   "outputs": [],
   "source": [
    "df = pd.read_pickle('../yakiu_rawdata/df_merge.pkl').drop(['社会人','データ内連番'],axis=1)"
   ]
  },
  {
   "cell_type": "markdown",
   "metadata": {},
   "source": [
    "# 分割データの作成\n",
    "- カテゴリ変数はダミー化\n",
    "- 目的変数は数値でよくて、分類のモデルを選べばOK\n",
    "- 欠損があると回らない。"
   ]
  },
  {
   "cell_type": "code",
   "execution_count": 3,
   "metadata": {
    "ExecuteTime": {
     "end_time": "2020-05-11T15:33:47.837245Z",
     "start_time": "2020-05-11T15:33:47.189836Z"
    },
    "scrolled": false
   },
   "outputs": [
    {
     "data": {
      "text/html": [
       "<div>\n",
       "<style scoped>\n",
       "    .dataframe tbody tr th:only-of-type {\n",
       "        vertical-align: middle;\n",
       "    }\n",
       "\n",
       "    .dataframe tbody tr th {\n",
       "        vertical-align: top;\n",
       "    }\n",
       "\n",
       "    .dataframe thead th {\n",
       "        text-align: right;\n",
       "    }\n",
       "</style>\n",
       "<table border=\"1\" class=\"dataframe\">\n",
       "  <thead>\n",
       "    <tr style=\"text-align: right;\">\n",
       "      <th></th>\n",
       "      <th>球種</th>\n",
       "      <th>試合内連番</th>\n",
       "      <th>試合内投球数</th>\n",
       "      <th>イニング</th>\n",
       "      <th>イニング内打席数</th>\n",
       "      <th>打席内投球数</th>\n",
       "      <th>投手登板順</th>\n",
       "      <th>投手試合内対戦打者数</th>\n",
       "      <th>投手試合内投球数</th>\n",
       "      <th>投手イニング内投球数</th>\n",
       "      <th>打者打順</th>\n",
       "      <th>打者試合内打席数</th>\n",
       "      <th>pitch_team_score</th>\n",
       "      <th>month</th>\n",
       "      <th>身長</th>\n",
       "      <th>体重</th>\n",
       "      <th>年俸</th>\n",
       "      <th>age</th>\n",
       "      <th>age_split</th>\n",
       "      <th>表裏_裏</th>\n",
       "      <th>投手投球左右_左</th>\n",
       "      <th>投手役割_救援</th>\n",
       "      <th>打者打席左右_左</th>\n",
       "      <th>打者守備位置_三</th>\n",
       "      <th>打者守備位置_中</th>\n",
       "      <th>打者守備位置_二</th>\n",
       "      <th>打者守備位置_右</th>\n",
       "      <th>打者守備位置_左</th>\n",
       "      <th>打者守備位置_打</th>\n",
       "      <th>打者守備位置_投</th>\n",
       "      <th>打者守備位置_指</th>\n",
       "      <th>打者守備位置_捕</th>\n",
       "      <th>打者守備位置_無</th>\n",
       "      <th>打者守備位置_遊</th>\n",
       "      <th>プレイ前走者状況_12_</th>\n",
       "      <th>プレイ前走者状況_1_3</th>\n",
       "      <th>プレイ前走者状況_1__</th>\n",
       "      <th>プレイ前走者状況__23</th>\n",
       "      <th>プレイ前走者状況__2_</th>\n",
       "      <th>プレイ前走者状況___3</th>\n",
       "      <th>プレイ前走者状況____</th>\n",
       "      <th>count_0-0-1</th>\n",
       "      <th>count_0-0-2</th>\n",
       "      <th>count_0-1-0</th>\n",
       "      <th>count_0-1-1</th>\n",
       "      <th>count_0-1-2</th>\n",
       "      <th>count_0-2-0</th>\n",
       "      <th>count_0-2-1</th>\n",
       "      <th>count_0-2-2</th>\n",
       "      <th>count_0-3-0</th>\n",
       "      <th>count_0-3-1</th>\n",
       "      <th>count_0-3-2</th>\n",
       "      <th>count_1-0-0</th>\n",
       "      <th>count_1-0-1</th>\n",
       "      <th>count_1-0-2</th>\n",
       "      <th>count_1-1-0</th>\n",
       "      <th>count_1-1-1</th>\n",
       "      <th>count_1-1-2</th>\n",
       "      <th>count_1-2-0</th>\n",
       "      <th>count_1-2-1</th>\n",
       "      <th>count_1-2-2</th>\n",
       "      <th>count_1-3-0</th>\n",
       "      <th>count_1-3-1</th>\n",
       "      <th>count_1-3-2</th>\n",
       "      <th>count_2-0-0</th>\n",
       "      <th>count_2-0-1</th>\n",
       "      <th>count_2-0-2</th>\n",
       "      <th>count_2-1-0</th>\n",
       "      <th>count_2-1-1</th>\n",
       "      <th>count_2-1-2</th>\n",
       "      <th>count_2-2-0</th>\n",
       "      <th>count_2-2-1</th>\n",
       "      <th>count_2-2-2</th>\n",
       "      <th>count_2-3-0</th>\n",
       "      <th>count_2-3-1</th>\n",
       "      <th>count_2-3-2</th>\n",
       "      <th>血液型_AB</th>\n",
       "      <th>血液型_B</th>\n",
       "      <th>血液型_O</th>\n",
       "      <th>血液型_不明</th>\n",
       "      <th>出身地域_北米</th>\n",
       "      <th>出身地域_日本</th>\n",
       "    </tr>\n",
       "  </thead>\n",
       "  <tbody>\n",
       "    <tr>\n",
       "      <th>0</th>\n",
       "      <td>0.0</td>\n",
       "      <td>1</td>\n",
       "      <td>1</td>\n",
       "      <td>1</td>\n",
       "      <td>1</td>\n",
       "      <td>1</td>\n",
       "      <td>1</td>\n",
       "      <td>1</td>\n",
       "      <td>1</td>\n",
       "      <td>1</td>\n",
       "      <td>1</td>\n",
       "      <td>1</td>\n",
       "      <td>0</td>\n",
       "      <td>3</td>\n",
       "      <td>196</td>\n",
       "      <td>100</td>\n",
       "      <td>24000</td>\n",
       "      <td>29</td>\n",
       "      <td>5</td>\n",
       "      <td>0</td>\n",
       "      <td>0</td>\n",
       "      <td>0</td>\n",
       "      <td>1</td>\n",
       "      <td>0</td>\n",
       "      <td>1</td>\n",
       "      <td>0</td>\n",
       "      <td>0</td>\n",
       "      <td>0</td>\n",
       "      <td>0</td>\n",
       "      <td>0</td>\n",
       "      <td>0</td>\n",
       "      <td>0</td>\n",
       "      <td>0</td>\n",
       "      <td>0</td>\n",
       "      <td>0</td>\n",
       "      <td>0</td>\n",
       "      <td>0</td>\n",
       "      <td>0</td>\n",
       "      <td>0</td>\n",
       "      <td>0</td>\n",
       "      <td>1</td>\n",
       "      <td>0</td>\n",
       "      <td>0</td>\n",
       "      <td>0</td>\n",
       "      <td>0</td>\n",
       "      <td>0</td>\n",
       "      <td>0</td>\n",
       "      <td>0</td>\n",
       "      <td>0</td>\n",
       "      <td>0</td>\n",
       "      <td>0</td>\n",
       "      <td>0</td>\n",
       "      <td>0</td>\n",
       "      <td>0</td>\n",
       "      <td>0</td>\n",
       "      <td>0</td>\n",
       "      <td>0</td>\n",
       "      <td>0</td>\n",
       "      <td>0</td>\n",
       "      <td>0</td>\n",
       "      <td>0</td>\n",
       "      <td>0</td>\n",
       "      <td>0</td>\n",
       "      <td>0</td>\n",
       "      <td>0</td>\n",
       "      <td>0</td>\n",
       "      <td>0</td>\n",
       "      <td>0</td>\n",
       "      <td>0</td>\n",
       "      <td>0</td>\n",
       "      <td>0</td>\n",
       "      <td>0</td>\n",
       "      <td>0</td>\n",
       "      <td>0</td>\n",
       "      <td>0</td>\n",
       "      <td>0</td>\n",
       "      <td>0</td>\n",
       "      <td>0</td>\n",
       "      <td>0</td>\n",
       "      <td>1</td>\n",
       "      <td>1</td>\n",
       "      <td>0</td>\n",
       "    </tr>\n",
       "    <tr>\n",
       "      <th>1</th>\n",
       "      <td>0.0</td>\n",
       "      <td>2</td>\n",
       "      <td>2</td>\n",
       "      <td>1</td>\n",
       "      <td>1</td>\n",
       "      <td>2</td>\n",
       "      <td>1</td>\n",
       "      <td>1</td>\n",
       "      <td>2</td>\n",
       "      <td>2</td>\n",
       "      <td>1</td>\n",
       "      <td>1</td>\n",
       "      <td>0</td>\n",
       "      <td>3</td>\n",
       "      <td>196</td>\n",
       "      <td>100</td>\n",
       "      <td>24000</td>\n",
       "      <td>29</td>\n",
       "      <td>5</td>\n",
       "      <td>0</td>\n",
       "      <td>0</td>\n",
       "      <td>0</td>\n",
       "      <td>1</td>\n",
       "      <td>0</td>\n",
       "      <td>1</td>\n",
       "      <td>0</td>\n",
       "      <td>0</td>\n",
       "      <td>0</td>\n",
       "      <td>0</td>\n",
       "      <td>0</td>\n",
       "      <td>0</td>\n",
       "      <td>0</td>\n",
       "      <td>0</td>\n",
       "      <td>0</td>\n",
       "      <td>0</td>\n",
       "      <td>0</td>\n",
       "      <td>0</td>\n",
       "      <td>0</td>\n",
       "      <td>0</td>\n",
       "      <td>0</td>\n",
       "      <td>1</td>\n",
       "      <td>0</td>\n",
       "      <td>0</td>\n",
       "      <td>0</td>\n",
       "      <td>0</td>\n",
       "      <td>0</td>\n",
       "      <td>0</td>\n",
       "      <td>0</td>\n",
       "      <td>0</td>\n",
       "      <td>0</td>\n",
       "      <td>0</td>\n",
       "      <td>0</td>\n",
       "      <td>1</td>\n",
       "      <td>0</td>\n",
       "      <td>0</td>\n",
       "      <td>0</td>\n",
       "      <td>0</td>\n",
       "      <td>0</td>\n",
       "      <td>0</td>\n",
       "      <td>0</td>\n",
       "      <td>0</td>\n",
       "      <td>0</td>\n",
       "      <td>0</td>\n",
       "      <td>0</td>\n",
       "      <td>0</td>\n",
       "      <td>0</td>\n",
       "      <td>0</td>\n",
       "      <td>0</td>\n",
       "      <td>0</td>\n",
       "      <td>0</td>\n",
       "      <td>0</td>\n",
       "      <td>0</td>\n",
       "      <td>0</td>\n",
       "      <td>0</td>\n",
       "      <td>0</td>\n",
       "      <td>0</td>\n",
       "      <td>0</td>\n",
       "      <td>0</td>\n",
       "      <td>0</td>\n",
       "      <td>1</td>\n",
       "      <td>1</td>\n",
       "      <td>0</td>\n",
       "    </tr>\n",
       "  </tbody>\n",
       "</table>\n",
       "</div>"
      ],
      "text/plain": [
       "    球種  試合内連番  試合内投球数  イニング  イニング内打席数  打席内投球数  投手登板順  投手試合内対戦打者数  投手試合内投球数  \\\n",
       "0  0.0      1       1     1         1       1      1           1         1   \n",
       "1  0.0      2       2     1         1       2      1           1         2   \n",
       "\n",
       "   投手イニング内投球数  打者打順  打者試合内打席数  pitch_team_score  month   身長   体重     年俸  age  \\\n",
       "0           1     1         1                 0      3  196  100  24000   29   \n",
       "1           2     1         1                 0      3  196  100  24000   29   \n",
       "\n",
       "   age_split  表裏_裏  投手投球左右_左  投手役割_救援  打者打席左右_左  打者守備位置_三  打者守備位置_中  打者守備位置_二  \\\n",
       "0          5     0         0        0         1         0         1         0   \n",
       "1          5     0         0        0         1         0         1         0   \n",
       "\n",
       "   打者守備位置_右  打者守備位置_左  打者守備位置_打  打者守備位置_投  打者守備位置_指  打者守備位置_捕  打者守備位置_無  \\\n",
       "0         0         0         0         0         0         0         0   \n",
       "1         0         0         0         0         0         0         0   \n",
       "\n",
       "   打者守備位置_遊  プレイ前走者状況_12_  プレイ前走者状況_1_3  プレイ前走者状況_1__  プレイ前走者状況__23  \\\n",
       "0         0             0             0             0             0   \n",
       "1         0             0             0             0             0   \n",
       "\n",
       "   プレイ前走者状況__2_  プレイ前走者状況___3  プレイ前走者状況____  count_0-0-1  count_0-0-2  \\\n",
       "0             0             0             1            0            0   \n",
       "1             0             0             1            0            0   \n",
       "\n",
       "   count_0-1-0  count_0-1-1  count_0-1-2  count_0-2-0  count_0-2-1  \\\n",
       "0            0            0            0            0            0   \n",
       "1            0            0            0            0            0   \n",
       "\n",
       "   count_0-2-2  count_0-3-0  count_0-3-1  count_0-3-2  count_1-0-0  \\\n",
       "0            0            0            0            0            0   \n",
       "1            0            0            0            0            1   \n",
       "\n",
       "   count_1-0-1  count_1-0-2  count_1-1-0  count_1-1-1  count_1-1-2  \\\n",
       "0            0            0            0            0            0   \n",
       "1            0            0            0            0            0   \n",
       "\n",
       "   count_1-2-0  count_1-2-1  count_1-2-2  count_1-3-0  count_1-3-1  \\\n",
       "0            0            0            0            0            0   \n",
       "1            0            0            0            0            0   \n",
       "\n",
       "   count_1-3-2  count_2-0-0  count_2-0-1  count_2-0-2  count_2-1-0  \\\n",
       "0            0            0            0            0            0   \n",
       "1            0            0            0            0            0   \n",
       "\n",
       "   count_2-1-1  count_2-1-2  count_2-2-0  count_2-2-1  count_2-2-2  \\\n",
       "0            0            0            0            0            0   \n",
       "1            0            0            0            0            0   \n",
       "\n",
       "   count_2-3-0  count_2-3-1  count_2-3-2  血液型_AB  血液型_B  血液型_O  血液型_不明  \\\n",
       "0            0            0            0       0      0      0       1   \n",
       "1            0            0            0       0      0      0       1   \n",
       "\n",
       "   出身地域_北米  出身地域_日本  \n",
       "0        1        0  \n",
       "1        1        0  "
      ]
     },
     "execution_count": 3,
     "metadata": {},
     "output_type": "execute_result"
    }
   ],
   "source": [
    "#category有のとき(事前にint型に変更必要)\n",
    "df2 = pd.get_dummies(df,drop_first=True)\n",
    "df2.head(2)"
   ]
  },
  {
   "cell_type": "code",
   "execution_count": 4,
   "metadata": {
    "ExecuteTime": {
     "end_time": "2020-05-11T15:33:48.356890Z",
     "start_time": "2020-05-11T15:33:47.838244Z"
    },
    "scrolled": true
   },
   "outputs": [],
   "source": [
    "df_test_merge = df2[df2['球種'].isnull()].drop(['球種'],axis=1).reset_index(drop = True)\n",
    "df_train_merge = df2.dropna(subset=['球種'])"
   ]
  },
  {
   "cell_type": "code",
   "execution_count": 5,
   "metadata": {
    "ExecuteTime": {
     "end_time": "2020-05-11T15:33:48.574758Z",
     "start_time": "2020-05-11T15:33:48.357856Z"
    },
    "scrolled": true
   },
   "outputs": [],
   "source": [
    "df_train_merge = df_train_merge.astype('int64')\n",
    "df_train_merge = pd.DataFrame(df_train_merge)\n",
    "df_test_merge = df_test_merge.astype('int64')\n",
    "df_test_merge = pd.DataFrame(df_test_merge)"
   ]
  },
  {
   "cell_type": "code",
   "execution_count": 6,
   "metadata": {
    "ExecuteTime": {
     "end_time": "2020-05-11T15:33:49.040673Z",
     "start_time": "2020-05-11T15:33:48.575755Z"
    },
    "scrolled": true
   },
   "outputs": [],
   "source": [
    "#label比率を合わせて分割\n",
    "df_train,df_test=train_test_split(df_train_merge, test_size=0.3, random_state = 88,  stratify=df_train_merge['球種']) "
   ]
  },
  {
   "cell_type": "code",
   "execution_count": 7,
   "metadata": {
    "ExecuteTime": {
     "end_time": "2020-05-11T15:33:49.046495Z",
     "start_time": "2020-05-11T15:33:49.041509Z"
    }
   },
   "outputs": [
    {
     "data": {
      "text/plain": [
       "257117"
      ]
     },
     "execution_count": 7,
     "metadata": {},
     "output_type": "execute_result"
    }
   ],
   "source": [
    "len(df_train_merge)"
   ]
  },
  {
   "cell_type": "code",
   "execution_count": 8,
   "metadata": {
    "ExecuteTime": {
     "end_time": "2020-05-11T15:33:49.315558Z",
     "start_time": "2020-05-11T15:33:49.310607Z"
    }
   },
   "outputs": [
    {
     "data": {
      "text/plain": [
       "521650"
      ]
     },
     "execution_count": 8,
     "metadata": {},
     "output_type": "execute_result"
    }
   ],
   "source": [
    "len(df_test_merge)"
   ]
  },
  {
   "cell_type": "code",
   "execution_count": 9,
   "metadata": {
    "ExecuteTime": {
     "end_time": "2020-05-11T15:33:53.713225Z",
     "start_time": "2020-05-11T15:33:53.629954Z"
    }
   },
   "outputs": [],
   "source": [
    "df_train_y = pd.DataFrame(df_train.loc[:,'球種'])\n",
    "df_train_x = pd.DataFrame(df_train.drop('球種',axis=1))\n",
    "df_test_y = pd.DataFrame(df_test.loc[:,'球種'])\n",
    "df_test_x = pd.DataFrame(df_test.drop('球種',axis=1))"
   ]
  },
  {
   "cell_type": "markdown",
   "metadata": {},
   "source": [
    "# Modeling\n",
    "## randomforest\n",
    "### デフォルトパラメータ\n",
    "- https://www.sejuku.net/blog/64455"
   ]
  },
  {
   "cell_type": "code",
   "execution_count": 29,
   "metadata": {
    "ExecuteTime": {
     "end_time": "2020-05-11T15:52:15.693657Z",
     "start_time": "2020-05-11T15:52:15.689673Z"
    }
   },
   "outputs": [],
   "source": [
    "from sklearn.ensemble import RandomForestClassifier as RFC \n",
    "from sklearn.model_selection import train_test_split, GridSearchCV"
   ]
  },
  {
   "cell_type": "code",
   "execution_count": 13,
   "metadata": {
    "ExecuteTime": {
     "end_time": "2020-05-11T12:59:49.008383Z",
     "start_time": "2020-05-11T12:59:37.607293Z"
    },
    "scrolled": true
   },
   "outputs": [
    {
     "name": "stderr",
     "output_type": "stream",
     "text": [
      "C:\\Users\\bono_\\anaconda3\\lib\\site-packages\\ipykernel_launcher.py:5: DataConversionWarning: A column-vector y was passed when a 1d array was expected. Please change the shape of y to (n_samples,), for example using ravel().\n",
      "  \"\"\"\n",
      "[Parallel(n_jobs=-1)]: Using backend ThreadingBackend with 12 concurrent workers.\n",
      "[Parallel(n_jobs=-1)]: Done  26 tasks      | elapsed:    3.7s\n",
      "[Parallel(n_jobs=-1)]: Done 100 out of 100 | elapsed:   11.1s finished\n"
     ]
    },
    {
     "data": {
      "text/plain": [
       "RandomForestClassifier(bootstrap=True, ccp_alpha=0.0, class_weight=None,\n",
       "                       criterion='gini', max_depth=None, max_features='auto',\n",
       "                       max_leaf_nodes=None, max_samples=None,\n",
       "                       min_impurity_decrease=0.0, min_impurity_split=None,\n",
       "                       min_samples_leaf=1, min_samples_split=2,\n",
       "                       min_weight_fraction_leaf=0.0, n_estimators=100,\n",
       "                       n_jobs=-1, oob_score=False, random_state=88,\n",
       "                       verbose=True, warm_start=False)"
      ]
     },
     "execution_count": 13,
     "metadata": {},
     "output_type": "execute_result"
    }
   ],
   "source": [
    "#RandomForestClassification　パラメータはデフォルト\n",
    "clf = RFC(verbose=True,       # 学習中にログを表示します。この指定はなくてもOK\n",
    "          n_jobs=-1,          # 複数のCPUコアを使って並列に学習します。-1は最大値。\n",
    "          random_state=88)  # 乱数のシードです。\n",
    "clf.fit(df_train_x, df_train_y)"
   ]
  },
  {
   "cell_type": "code",
   "execution_count": 14,
   "metadata": {
    "ExecuteTime": {
     "end_time": "2020-05-11T12:59:54.744169Z",
     "start_time": "2020-05-11T12:59:52.412934Z"
    }
   },
   "outputs": [
    {
     "name": "stderr",
     "output_type": "stream",
     "text": [
      "[Parallel(n_jobs=12)]: Using backend ThreadingBackend with 12 concurrent workers.\n",
      "[Parallel(n_jobs=12)]: Done  26 tasks      | elapsed:    0.6s\n",
      "[Parallel(n_jobs=12)]: Done 100 out of 100 | elapsed:    2.1s finished\n"
     ]
    }
   ],
   "source": [
    "# Trainデータにあてはめ。predict_probaは確率を返す。　arrayで返ってくる\n",
    "predict_train_label = clf.predict_proba(df_train_x)"
   ]
  },
  {
   "cell_type": "code",
   "execution_count": 15,
   "metadata": {
    "ExecuteTime": {
     "end_time": "2020-05-11T12:59:56.213206Z",
     "start_time": "2020-05-11T12:59:56.200272Z"
    },
    "scrolled": false
   },
   "outputs": [
    {
     "data": {
      "text/html": [
       "<div>\n",
       "<style scoped>\n",
       "    .dataframe tbody tr th:only-of-type {\n",
       "        vertical-align: middle;\n",
       "    }\n",
       "\n",
       "    .dataframe tbody tr th {\n",
       "        vertical-align: top;\n",
       "    }\n",
       "\n",
       "    .dataframe thead th {\n",
       "        text-align: right;\n",
       "    }\n",
       "</style>\n",
       "<table border=\"1\" class=\"dataframe\">\n",
       "  <thead>\n",
       "    <tr style=\"text-align: right;\">\n",
       "      <th></th>\n",
       "      <th>0</th>\n",
       "      <th>1</th>\n",
       "      <th>2</th>\n",
       "      <th>3</th>\n",
       "      <th>4</th>\n",
       "      <th>5</th>\n",
       "      <th>6</th>\n",
       "      <th>7</th>\n",
       "    </tr>\n",
       "  </thead>\n",
       "  <tbody>\n",
       "    <tr>\n",
       "      <th>0</th>\n",
       "      <td>0.26</td>\n",
       "      <td>0.01</td>\n",
       "      <td>0.62</td>\n",
       "      <td>0.00</td>\n",
       "      <td>0.10</td>\n",
       "      <td>0.00</td>\n",
       "      <td>0.00</td>\n",
       "      <td>0.01</td>\n",
       "    </tr>\n",
       "    <tr>\n",
       "      <th>1</th>\n",
       "      <td>0.85</td>\n",
       "      <td>0.00</td>\n",
       "      <td>0.14</td>\n",
       "      <td>0.01</td>\n",
       "      <td>0.00</td>\n",
       "      <td>0.00</td>\n",
       "      <td>0.00</td>\n",
       "      <td>0.00</td>\n",
       "    </tr>\n",
       "    <tr>\n",
       "      <th>2</th>\n",
       "      <td>0.71</td>\n",
       "      <td>0.00</td>\n",
       "      <td>0.26</td>\n",
       "      <td>0.02</td>\n",
       "      <td>0.01</td>\n",
       "      <td>0.00</td>\n",
       "      <td>0.00</td>\n",
       "      <td>0.00</td>\n",
       "    </tr>\n",
       "    <tr>\n",
       "      <th>3</th>\n",
       "      <td>0.91</td>\n",
       "      <td>0.04</td>\n",
       "      <td>0.00</td>\n",
       "      <td>0.00</td>\n",
       "      <td>0.05</td>\n",
       "      <td>0.00</td>\n",
       "      <td>0.00</td>\n",
       "      <td>0.00</td>\n",
       "    </tr>\n",
       "    <tr>\n",
       "      <th>4</th>\n",
       "      <td>0.76</td>\n",
       "      <td>0.02</td>\n",
       "      <td>0.18</td>\n",
       "      <td>0.00</td>\n",
       "      <td>0.01</td>\n",
       "      <td>0.02</td>\n",
       "      <td>0.00</td>\n",
       "      <td>0.01</td>\n",
       "    </tr>\n",
       "    <tr>\n",
       "      <th>...</th>\n",
       "      <td>...</td>\n",
       "      <td>...</td>\n",
       "      <td>...</td>\n",
       "      <td>...</td>\n",
       "      <td>...</td>\n",
       "      <td>...</td>\n",
       "      <td>...</td>\n",
       "      <td>...</td>\n",
       "    </tr>\n",
       "    <tr>\n",
       "      <th>179976</th>\n",
       "      <td>0.22</td>\n",
       "      <td>0.00</td>\n",
       "      <td>0.01</td>\n",
       "      <td>0.00</td>\n",
       "      <td>0.77</td>\n",
       "      <td>0.00</td>\n",
       "      <td>0.00</td>\n",
       "      <td>0.00</td>\n",
       "    </tr>\n",
       "    <tr>\n",
       "      <th>179977</th>\n",
       "      <td>0.91</td>\n",
       "      <td>0.00</td>\n",
       "      <td>0.06</td>\n",
       "      <td>0.00</td>\n",
       "      <td>0.03</td>\n",
       "      <td>0.00</td>\n",
       "      <td>0.00</td>\n",
       "      <td>0.00</td>\n",
       "    </tr>\n",
       "    <tr>\n",
       "      <th>179978</th>\n",
       "      <td>0.00</td>\n",
       "      <td>0.22</td>\n",
       "      <td>0.00</td>\n",
       "      <td>0.75</td>\n",
       "      <td>0.01</td>\n",
       "      <td>0.02</td>\n",
       "      <td>0.00</td>\n",
       "      <td>0.00</td>\n",
       "    </tr>\n",
       "    <tr>\n",
       "      <th>179979</th>\n",
       "      <td>0.80</td>\n",
       "      <td>0.00</td>\n",
       "      <td>0.11</td>\n",
       "      <td>0.00</td>\n",
       "      <td>0.07</td>\n",
       "      <td>0.00</td>\n",
       "      <td>0.02</td>\n",
       "      <td>0.00</td>\n",
       "    </tr>\n",
       "    <tr>\n",
       "      <th>179980</th>\n",
       "      <td>0.18</td>\n",
       "      <td>0.01</td>\n",
       "      <td>0.77</td>\n",
       "      <td>0.00</td>\n",
       "      <td>0.00</td>\n",
       "      <td>0.03</td>\n",
       "      <td>0.00</td>\n",
       "      <td>0.01</td>\n",
       "    </tr>\n",
       "  </tbody>\n",
       "</table>\n",
       "<p>179981 rows × 8 columns</p>\n",
       "</div>"
      ],
      "text/plain": [
       "           0     1     2     3     4     5     6     7\n",
       "0       0.26  0.01  0.62  0.00  0.10  0.00  0.00  0.01\n",
       "1       0.85  0.00  0.14  0.01  0.00  0.00  0.00  0.00\n",
       "2       0.71  0.00  0.26  0.02  0.01  0.00  0.00  0.00\n",
       "3       0.91  0.04  0.00  0.00  0.05  0.00  0.00  0.00\n",
       "4       0.76  0.02  0.18  0.00  0.01  0.02  0.00  0.01\n",
       "...      ...   ...   ...   ...   ...   ...   ...   ...\n",
       "179976  0.22  0.00  0.01  0.00  0.77  0.00  0.00  0.00\n",
       "179977  0.91  0.00  0.06  0.00  0.03  0.00  0.00  0.00\n",
       "179978  0.00  0.22  0.00  0.75  0.01  0.02  0.00  0.00\n",
       "179979  0.80  0.00  0.11  0.00  0.07  0.00  0.02  0.00\n",
       "179980  0.18  0.01  0.77  0.00  0.00  0.03  0.00  0.01\n",
       "\n",
       "[179981 rows x 8 columns]"
      ]
     },
     "execution_count": 15,
     "metadata": {},
     "output_type": "execute_result"
    }
   ],
   "source": [
    "predict_train_label = pd.DataFrame(predict_train_label)\n",
    "predict_train_label"
   ]
  },
  {
   "cell_type": "code",
   "execution_count": 16,
   "metadata": {
    "ExecuteTime": {
     "end_time": "2020-05-11T12:59:57.403779Z",
     "start_time": "2020-05-11T12:59:57.388528Z"
    }
   },
   "outputs": [],
   "source": [
    "a = pd.DataFrame(df_train_y)\n",
    "a=a.reset_index(drop=True)\n",
    "predict_train_label2 = pd.concat([a,predict_train_label],axis=1)"
   ]
  },
  {
   "cell_type": "code",
   "execution_count": 17,
   "metadata": {
    "ExecuteTime": {
     "end_time": "2020-05-11T12:59:58.264743Z",
     "start_time": "2020-05-11T12:59:58.252742Z"
    }
   },
   "outputs": [
    {
     "data": {
      "text/html": [
       "<div>\n",
       "<style scoped>\n",
       "    .dataframe tbody tr th:only-of-type {\n",
       "        vertical-align: middle;\n",
       "    }\n",
       "\n",
       "    .dataframe tbody tr th {\n",
       "        vertical-align: top;\n",
       "    }\n",
       "\n",
       "    .dataframe thead th {\n",
       "        text-align: right;\n",
       "    }\n",
       "</style>\n",
       "<table border=\"1\" class=\"dataframe\">\n",
       "  <thead>\n",
       "    <tr style=\"text-align: right;\">\n",
       "      <th></th>\n",
       "      <th>球種</th>\n",
       "      <th>0</th>\n",
       "      <th>1</th>\n",
       "      <th>2</th>\n",
       "      <th>3</th>\n",
       "      <th>4</th>\n",
       "      <th>5</th>\n",
       "      <th>6</th>\n",
       "      <th>7</th>\n",
       "    </tr>\n",
       "  </thead>\n",
       "  <tbody>\n",
       "    <tr>\n",
       "      <th>0</th>\n",
       "      <td>2</td>\n",
       "      <td>0.26</td>\n",
       "      <td>0.01</td>\n",
       "      <td>0.62</td>\n",
       "      <td>0.00</td>\n",
       "      <td>0.10</td>\n",
       "      <td>0.00</td>\n",
       "      <td>0.00</td>\n",
       "      <td>0.01</td>\n",
       "    </tr>\n",
       "    <tr>\n",
       "      <th>1</th>\n",
       "      <td>0</td>\n",
       "      <td>0.85</td>\n",
       "      <td>0.00</td>\n",
       "      <td>0.14</td>\n",
       "      <td>0.01</td>\n",
       "      <td>0.00</td>\n",
       "      <td>0.00</td>\n",
       "      <td>0.00</td>\n",
       "      <td>0.00</td>\n",
       "    </tr>\n",
       "    <tr>\n",
       "      <th>2</th>\n",
       "      <td>0</td>\n",
       "      <td>0.71</td>\n",
       "      <td>0.00</td>\n",
       "      <td>0.26</td>\n",
       "      <td>0.02</td>\n",
       "      <td>0.01</td>\n",
       "      <td>0.00</td>\n",
       "      <td>0.00</td>\n",
       "      <td>0.00</td>\n",
       "    </tr>\n",
       "    <tr>\n",
       "      <th>3</th>\n",
       "      <td>0</td>\n",
       "      <td>0.91</td>\n",
       "      <td>0.04</td>\n",
       "      <td>0.00</td>\n",
       "      <td>0.00</td>\n",
       "      <td>0.05</td>\n",
       "      <td>0.00</td>\n",
       "      <td>0.00</td>\n",
       "      <td>0.00</td>\n",
       "    </tr>\n",
       "    <tr>\n",
       "      <th>4</th>\n",
       "      <td>0</td>\n",
       "      <td>0.76</td>\n",
       "      <td>0.02</td>\n",
       "      <td>0.18</td>\n",
       "      <td>0.00</td>\n",
       "      <td>0.01</td>\n",
       "      <td>0.02</td>\n",
       "      <td>0.00</td>\n",
       "      <td>0.01</td>\n",
       "    </tr>\n",
       "    <tr>\n",
       "      <th>...</th>\n",
       "      <td>...</td>\n",
       "      <td>...</td>\n",
       "      <td>...</td>\n",
       "      <td>...</td>\n",
       "      <td>...</td>\n",
       "      <td>...</td>\n",
       "      <td>...</td>\n",
       "      <td>...</td>\n",
       "      <td>...</td>\n",
       "    </tr>\n",
       "    <tr>\n",
       "      <th>179976</th>\n",
       "      <td>4</td>\n",
       "      <td>0.22</td>\n",
       "      <td>0.00</td>\n",
       "      <td>0.01</td>\n",
       "      <td>0.00</td>\n",
       "      <td>0.77</td>\n",
       "      <td>0.00</td>\n",
       "      <td>0.00</td>\n",
       "      <td>0.00</td>\n",
       "    </tr>\n",
       "    <tr>\n",
       "      <th>179977</th>\n",
       "      <td>0</td>\n",
       "      <td>0.91</td>\n",
       "      <td>0.00</td>\n",
       "      <td>0.06</td>\n",
       "      <td>0.00</td>\n",
       "      <td>0.03</td>\n",
       "      <td>0.00</td>\n",
       "      <td>0.00</td>\n",
       "      <td>0.00</td>\n",
       "    </tr>\n",
       "    <tr>\n",
       "      <th>179978</th>\n",
       "      <td>3</td>\n",
       "      <td>0.00</td>\n",
       "      <td>0.22</td>\n",
       "      <td>0.00</td>\n",
       "      <td>0.75</td>\n",
       "      <td>0.01</td>\n",
       "      <td>0.02</td>\n",
       "      <td>0.00</td>\n",
       "      <td>0.00</td>\n",
       "    </tr>\n",
       "    <tr>\n",
       "      <th>179979</th>\n",
       "      <td>0</td>\n",
       "      <td>0.80</td>\n",
       "      <td>0.00</td>\n",
       "      <td>0.11</td>\n",
       "      <td>0.00</td>\n",
       "      <td>0.07</td>\n",
       "      <td>0.00</td>\n",
       "      <td>0.02</td>\n",
       "      <td>0.00</td>\n",
       "    </tr>\n",
       "    <tr>\n",
       "      <th>179980</th>\n",
       "      <td>2</td>\n",
       "      <td>0.18</td>\n",
       "      <td>0.01</td>\n",
       "      <td>0.77</td>\n",
       "      <td>0.00</td>\n",
       "      <td>0.00</td>\n",
       "      <td>0.03</td>\n",
       "      <td>0.00</td>\n",
       "      <td>0.01</td>\n",
       "    </tr>\n",
       "  </tbody>\n",
       "</table>\n",
       "<p>179981 rows × 9 columns</p>\n",
       "</div>"
      ],
      "text/plain": [
       "        球種     0     1     2     3     4     5     6     7\n",
       "0        2  0.26  0.01  0.62  0.00  0.10  0.00  0.00  0.01\n",
       "1        0  0.85  0.00  0.14  0.01  0.00  0.00  0.00  0.00\n",
       "2        0  0.71  0.00  0.26  0.02  0.01  0.00  0.00  0.00\n",
       "3        0  0.91  0.04  0.00  0.00  0.05  0.00  0.00  0.00\n",
       "4        0  0.76  0.02  0.18  0.00  0.01  0.02  0.00  0.01\n",
       "...     ..   ...   ...   ...   ...   ...   ...   ...   ...\n",
       "179976   4  0.22  0.00  0.01  0.00  0.77  0.00  0.00  0.00\n",
       "179977   0  0.91  0.00  0.06  0.00  0.03  0.00  0.00  0.00\n",
       "179978   3  0.00  0.22  0.00  0.75  0.01  0.02  0.00  0.00\n",
       "179979   0  0.80  0.00  0.11  0.00  0.07  0.00  0.02  0.00\n",
       "179980   2  0.18  0.01  0.77  0.00  0.00  0.03  0.00  0.01\n",
       "\n",
       "[179981 rows x 9 columns]"
      ]
     },
     "execution_count": 17,
     "metadata": {},
     "output_type": "execute_result"
    }
   ],
   "source": [
    "predict_train_label2"
   ]
  },
  {
   "cell_type": "code",
   "execution_count": 18,
   "metadata": {
    "ExecuteTime": {
     "end_time": "2020-05-11T13:00:00.552439Z",
     "start_time": "2020-05-11T12:59:59.490265Z"
    },
    "scrolled": true
   },
   "outputs": [
    {
     "name": "stderr",
     "output_type": "stream",
     "text": [
      "[Parallel(n_jobs=12)]: Using backend ThreadingBackend with 12 concurrent workers.\n",
      "[Parallel(n_jobs=12)]: Done  26 tasks      | elapsed:    0.2s\n",
      "[Parallel(n_jobs=12)]: Done 100 out of 100 | elapsed:    0.8s finished\n"
     ]
    }
   ],
   "source": [
    "#テストデータにあてはめ。\n",
    "predict_test_label = clf.predict_proba(df_test_x)"
   ]
  },
  {
   "cell_type": "code",
   "execution_count": 19,
   "metadata": {
    "ExecuteTime": {
     "end_time": "2020-05-11T13:00:05.165156Z",
     "start_time": "2020-05-11T13:00:05.153183Z"
    },
    "scrolled": false
   },
   "outputs": [
    {
     "data": {
      "text/html": [
       "<div>\n",
       "<style scoped>\n",
       "    .dataframe tbody tr th:only-of-type {\n",
       "        vertical-align: middle;\n",
       "    }\n",
       "\n",
       "    .dataframe tbody tr th {\n",
       "        vertical-align: top;\n",
       "    }\n",
       "\n",
       "    .dataframe thead th {\n",
       "        text-align: right;\n",
       "    }\n",
       "</style>\n",
       "<table border=\"1\" class=\"dataframe\">\n",
       "  <thead>\n",
       "    <tr style=\"text-align: right;\">\n",
       "      <th></th>\n",
       "      <th>0</th>\n",
       "      <th>1</th>\n",
       "      <th>2</th>\n",
       "      <th>3</th>\n",
       "      <th>4</th>\n",
       "      <th>5</th>\n",
       "      <th>6</th>\n",
       "      <th>7</th>\n",
       "    </tr>\n",
       "  </thead>\n",
       "  <tbody>\n",
       "    <tr>\n",
       "      <th>0</th>\n",
       "      <td>0.41</td>\n",
       "      <td>0.01</td>\n",
       "      <td>0.38</td>\n",
       "      <td>0.00</td>\n",
       "      <td>0.00</td>\n",
       "      <td>0.19</td>\n",
       "      <td>0.00</td>\n",
       "      <td>0.01</td>\n",
       "    </tr>\n",
       "    <tr>\n",
       "      <th>1</th>\n",
       "      <td>0.36</td>\n",
       "      <td>0.14</td>\n",
       "      <td>0.08</td>\n",
       "      <td>0.01</td>\n",
       "      <td>0.02</td>\n",
       "      <td>0.00</td>\n",
       "      <td>0.32</td>\n",
       "      <td>0.07</td>\n",
       "    </tr>\n",
       "    <tr>\n",
       "      <th>2</th>\n",
       "      <td>0.25</td>\n",
       "      <td>0.00</td>\n",
       "      <td>0.71</td>\n",
       "      <td>0.02</td>\n",
       "      <td>0.00</td>\n",
       "      <td>0.02</td>\n",
       "      <td>0.00</td>\n",
       "      <td>0.00</td>\n",
       "    </tr>\n",
       "    <tr>\n",
       "      <th>3</th>\n",
       "      <td>0.26</td>\n",
       "      <td>0.18</td>\n",
       "      <td>0.30</td>\n",
       "      <td>0.00</td>\n",
       "      <td>0.14</td>\n",
       "      <td>0.08</td>\n",
       "      <td>0.00</td>\n",
       "      <td>0.04</td>\n",
       "    </tr>\n",
       "    <tr>\n",
       "      <th>4</th>\n",
       "      <td>0.80</td>\n",
       "      <td>0.01</td>\n",
       "      <td>0.13</td>\n",
       "      <td>0.03</td>\n",
       "      <td>0.01</td>\n",
       "      <td>0.00</td>\n",
       "      <td>0.00</td>\n",
       "      <td>0.02</td>\n",
       "    </tr>\n",
       "    <tr>\n",
       "      <th>...</th>\n",
       "      <td>...</td>\n",
       "      <td>...</td>\n",
       "      <td>...</td>\n",
       "      <td>...</td>\n",
       "      <td>...</td>\n",
       "      <td>...</td>\n",
       "      <td>...</td>\n",
       "      <td>...</td>\n",
       "    </tr>\n",
       "    <tr>\n",
       "      <th>77131</th>\n",
       "      <td>0.71</td>\n",
       "      <td>0.05</td>\n",
       "      <td>0.20</td>\n",
       "      <td>0.03</td>\n",
       "      <td>0.00</td>\n",
       "      <td>0.00</td>\n",
       "      <td>0.00</td>\n",
       "      <td>0.01</td>\n",
       "    </tr>\n",
       "    <tr>\n",
       "      <th>77132</th>\n",
       "      <td>0.21</td>\n",
       "      <td>0.01</td>\n",
       "      <td>0.26</td>\n",
       "      <td>0.08</td>\n",
       "      <td>0.01</td>\n",
       "      <td>0.12</td>\n",
       "      <td>0.12</td>\n",
       "      <td>0.19</td>\n",
       "    </tr>\n",
       "    <tr>\n",
       "      <th>77133</th>\n",
       "      <td>0.76</td>\n",
       "      <td>0.00</td>\n",
       "      <td>0.02</td>\n",
       "      <td>0.02</td>\n",
       "      <td>0.14</td>\n",
       "      <td>0.01</td>\n",
       "      <td>0.00</td>\n",
       "      <td>0.05</td>\n",
       "    </tr>\n",
       "    <tr>\n",
       "      <th>77134</th>\n",
       "      <td>0.61</td>\n",
       "      <td>0.12</td>\n",
       "      <td>0.13</td>\n",
       "      <td>0.03</td>\n",
       "      <td>0.04</td>\n",
       "      <td>0.01</td>\n",
       "      <td>0.01</td>\n",
       "      <td>0.05</td>\n",
       "    </tr>\n",
       "    <tr>\n",
       "      <th>77135</th>\n",
       "      <td>0.59</td>\n",
       "      <td>0.10</td>\n",
       "      <td>0.05</td>\n",
       "      <td>0.02</td>\n",
       "      <td>0.12</td>\n",
       "      <td>0.00</td>\n",
       "      <td>0.00</td>\n",
       "      <td>0.12</td>\n",
       "    </tr>\n",
       "  </tbody>\n",
       "</table>\n",
       "<p>77136 rows × 8 columns</p>\n",
       "</div>"
      ],
      "text/plain": [
       "          0     1     2     3     4     5     6     7\n",
       "0      0.41  0.01  0.38  0.00  0.00  0.19  0.00  0.01\n",
       "1      0.36  0.14  0.08  0.01  0.02  0.00  0.32  0.07\n",
       "2      0.25  0.00  0.71  0.02  0.00  0.02  0.00  0.00\n",
       "3      0.26  0.18  0.30  0.00  0.14  0.08  0.00  0.04\n",
       "4      0.80  0.01  0.13  0.03  0.01  0.00  0.00  0.02\n",
       "...     ...   ...   ...   ...   ...   ...   ...   ...\n",
       "77131  0.71  0.05  0.20  0.03  0.00  0.00  0.00  0.01\n",
       "77132  0.21  0.01  0.26  0.08  0.01  0.12  0.12  0.19\n",
       "77133  0.76  0.00  0.02  0.02  0.14  0.01  0.00  0.05\n",
       "77134  0.61  0.12  0.13  0.03  0.04  0.01  0.01  0.05\n",
       "77135  0.59  0.10  0.05  0.02  0.12  0.00  0.00  0.12\n",
       "\n",
       "[77136 rows x 8 columns]"
      ]
     },
     "execution_count": 19,
     "metadata": {},
     "output_type": "execute_result"
    }
   ],
   "source": [
    "predict_test_label = pd.DataFrame(predict_test_label)\n",
    "predict_test_label"
   ]
  },
  {
   "cell_type": "code",
   "execution_count": 20,
   "metadata": {
    "ExecuteTime": {
     "end_time": "2020-05-11T13:00:06.781907Z",
     "start_time": "2020-05-11T13:00:06.773928Z"
    }
   },
   "outputs": [],
   "source": [
    "a = pd.DataFrame(df_test_y)\n",
    "a=a.reset_index(drop=True)\n",
    "predict_test_label2 = pd.concat([a,predict_test_label],axis=1)"
   ]
  },
  {
   "cell_type": "code",
   "execution_count": 21,
   "metadata": {
    "ExecuteTime": {
     "end_time": "2020-05-11T13:00:07.817362Z",
     "start_time": "2020-05-11T13:00:07.803406Z"
    },
    "scrolled": true
   },
   "outputs": [
    {
     "data": {
      "text/html": [
       "<div>\n",
       "<style scoped>\n",
       "    .dataframe tbody tr th:only-of-type {\n",
       "        vertical-align: middle;\n",
       "    }\n",
       "\n",
       "    .dataframe tbody tr th {\n",
       "        vertical-align: top;\n",
       "    }\n",
       "\n",
       "    .dataframe thead th {\n",
       "        text-align: right;\n",
       "    }\n",
       "</style>\n",
       "<table border=\"1\" class=\"dataframe\">\n",
       "  <thead>\n",
       "    <tr style=\"text-align: right;\">\n",
       "      <th></th>\n",
       "      <th>球種</th>\n",
       "      <th>0</th>\n",
       "      <th>1</th>\n",
       "      <th>2</th>\n",
       "      <th>3</th>\n",
       "      <th>4</th>\n",
       "      <th>5</th>\n",
       "      <th>6</th>\n",
       "      <th>7</th>\n",
       "    </tr>\n",
       "  </thead>\n",
       "  <tbody>\n",
       "    <tr>\n",
       "      <th>0</th>\n",
       "      <td>2</td>\n",
       "      <td>0.41</td>\n",
       "      <td>0.01</td>\n",
       "      <td>0.38</td>\n",
       "      <td>0.00</td>\n",
       "      <td>0.00</td>\n",
       "      <td>0.19</td>\n",
       "      <td>0.00</td>\n",
       "      <td>0.01</td>\n",
       "    </tr>\n",
       "    <tr>\n",
       "      <th>1</th>\n",
       "      <td>6</td>\n",
       "      <td>0.36</td>\n",
       "      <td>0.14</td>\n",
       "      <td>0.08</td>\n",
       "      <td>0.01</td>\n",
       "      <td>0.02</td>\n",
       "      <td>0.00</td>\n",
       "      <td>0.32</td>\n",
       "      <td>0.07</td>\n",
       "    </tr>\n",
       "    <tr>\n",
       "      <th>2</th>\n",
       "      <td>0</td>\n",
       "      <td>0.25</td>\n",
       "      <td>0.00</td>\n",
       "      <td>0.71</td>\n",
       "      <td>0.02</td>\n",
       "      <td>0.00</td>\n",
       "      <td>0.02</td>\n",
       "      <td>0.00</td>\n",
       "      <td>0.00</td>\n",
       "    </tr>\n",
       "    <tr>\n",
       "      <th>3</th>\n",
       "      <td>3</td>\n",
       "      <td>0.26</td>\n",
       "      <td>0.18</td>\n",
       "      <td>0.30</td>\n",
       "      <td>0.00</td>\n",
       "      <td>0.14</td>\n",
       "      <td>0.08</td>\n",
       "      <td>0.00</td>\n",
       "      <td>0.04</td>\n",
       "    </tr>\n",
       "    <tr>\n",
       "      <th>4</th>\n",
       "      <td>2</td>\n",
       "      <td>0.80</td>\n",
       "      <td>0.01</td>\n",
       "      <td>0.13</td>\n",
       "      <td>0.03</td>\n",
       "      <td>0.01</td>\n",
       "      <td>0.00</td>\n",
       "      <td>0.00</td>\n",
       "      <td>0.02</td>\n",
       "    </tr>\n",
       "    <tr>\n",
       "      <th>...</th>\n",
       "      <td>...</td>\n",
       "      <td>...</td>\n",
       "      <td>...</td>\n",
       "      <td>...</td>\n",
       "      <td>...</td>\n",
       "      <td>...</td>\n",
       "      <td>...</td>\n",
       "      <td>...</td>\n",
       "      <td>...</td>\n",
       "    </tr>\n",
       "    <tr>\n",
       "      <th>77131</th>\n",
       "      <td>0</td>\n",
       "      <td>0.71</td>\n",
       "      <td>0.05</td>\n",
       "      <td>0.20</td>\n",
       "      <td>0.03</td>\n",
       "      <td>0.00</td>\n",
       "      <td>0.00</td>\n",
       "      <td>0.00</td>\n",
       "      <td>0.01</td>\n",
       "    </tr>\n",
       "    <tr>\n",
       "      <th>77132</th>\n",
       "      <td>7</td>\n",
       "      <td>0.21</td>\n",
       "      <td>0.01</td>\n",
       "      <td>0.26</td>\n",
       "      <td>0.08</td>\n",
       "      <td>0.01</td>\n",
       "      <td>0.12</td>\n",
       "      <td>0.12</td>\n",
       "      <td>0.19</td>\n",
       "    </tr>\n",
       "    <tr>\n",
       "      <th>77133</th>\n",
       "      <td>0</td>\n",
       "      <td>0.76</td>\n",
       "      <td>0.00</td>\n",
       "      <td>0.02</td>\n",
       "      <td>0.02</td>\n",
       "      <td>0.14</td>\n",
       "      <td>0.01</td>\n",
       "      <td>0.00</td>\n",
       "      <td>0.05</td>\n",
       "    </tr>\n",
       "    <tr>\n",
       "      <th>77134</th>\n",
       "      <td>4</td>\n",
       "      <td>0.61</td>\n",
       "      <td>0.12</td>\n",
       "      <td>0.13</td>\n",
       "      <td>0.03</td>\n",
       "      <td>0.04</td>\n",
       "      <td>0.01</td>\n",
       "      <td>0.01</td>\n",
       "      <td>0.05</td>\n",
       "    </tr>\n",
       "    <tr>\n",
       "      <th>77135</th>\n",
       "      <td>0</td>\n",
       "      <td>0.59</td>\n",
       "      <td>0.10</td>\n",
       "      <td>0.05</td>\n",
       "      <td>0.02</td>\n",
       "      <td>0.12</td>\n",
       "      <td>0.00</td>\n",
       "      <td>0.00</td>\n",
       "      <td>0.12</td>\n",
       "    </tr>\n",
       "  </tbody>\n",
       "</table>\n",
       "<p>77136 rows × 9 columns</p>\n",
       "</div>"
      ],
      "text/plain": [
       "       球種     0     1     2     3     4     5     6     7\n",
       "0       2  0.41  0.01  0.38  0.00  0.00  0.19  0.00  0.01\n",
       "1       6  0.36  0.14  0.08  0.01  0.02  0.00  0.32  0.07\n",
       "2       0  0.25  0.00  0.71  0.02  0.00  0.02  0.00  0.00\n",
       "3       3  0.26  0.18  0.30  0.00  0.14  0.08  0.00  0.04\n",
       "4       2  0.80  0.01  0.13  0.03  0.01  0.00  0.00  0.02\n",
       "...    ..   ...   ...   ...   ...   ...   ...   ...   ...\n",
       "77131   0  0.71  0.05  0.20  0.03  0.00  0.00  0.00  0.01\n",
       "77132   7  0.21  0.01  0.26  0.08  0.01  0.12  0.12  0.19\n",
       "77133   0  0.76  0.00  0.02  0.02  0.14  0.01  0.00  0.05\n",
       "77134   4  0.61  0.12  0.13  0.03  0.04  0.01  0.01  0.05\n",
       "77135   0  0.59  0.10  0.05  0.02  0.12  0.00  0.00  0.12\n",
       "\n",
       "[77136 rows x 9 columns]"
      ]
     },
     "execution_count": 21,
     "metadata": {},
     "output_type": "execute_result"
    }
   ],
   "source": [
    "predict_test_label2"
   ]
  },
  {
   "cell_type": "code",
   "execution_count": 22,
   "metadata": {
    "ExecuteTime": {
     "end_time": "2020-05-11T13:00:10.363026Z",
     "start_time": "2020-05-11T13:00:10.226847Z"
    },
    "scrolled": true
   },
   "outputs": [
    {
     "name": "stdout",
     "output_type": "stream",
     "text": [
      "Train:0.2683\n",
      "test:1.4637\n"
     ]
    }
   ],
   "source": [
    "# 評価関数　logloss関数\n",
    "from sklearn.metrics import log_loss\n",
    "print('Train:' +str(round(log_loss(df_train_y,predict_train_label),4)))\n",
    "print('test:' +str(round(log_loss(df_test_y,predict_test_label),4)))"
   ]
  },
  {
   "cell_type": "markdown",
   "metadata": {},
   "source": [
    "### 過学習しまくりなのでグリッドサーチしてパラメータを設定する。\n",
    "- https://scikit-learn.org/stable/modules/generated/sklearn.ensemble.RandomForestClassifier.html"
   ]
  },
  {
   "cell_type": "code",
   "execution_count": 23,
   "metadata": {
    "ExecuteTime": {
     "end_time": "2020-05-11T13:00:14.256541Z",
     "start_time": "2020-05-11T13:00:14.251522Z"
    }
   },
   "outputs": [],
   "source": [
    "search_params = {\n",
    "     'n_estimators'      : [ 10, 50, 100,300],\n",
    "#      'max_features'      : [3, 5, 10, 15, 20],\n",
    "      'random_state'      : [88],\n",
    "      'n_jobs'            : [-1],\n",
    "      'min_samples_split' : [20, 50,100,250,500,1000],\n",
    "      'max_depth'         : [3, 5, 10, 15, 20, 25, 30]\n",
    "}"
   ]
  },
  {
   "cell_type": "code",
   "execution_count": 30,
   "metadata": {
    "ExecuteTime": {
     "end_time": "2020-05-11T15:52:21.021027Z",
     "start_time": "2020-05-11T15:52:21.010024Z"
    },
    "scrolled": true
   },
   "outputs": [
    {
     "ename": "NameError",
     "evalue": "name 'search_params' is not defined",
     "output_type": "error",
     "traceback": [
      "\u001b[1;31m---------------------------------------------------------------------------\u001b[0m",
      "\u001b[1;31mNameError\u001b[0m                                 Traceback (most recent call last)",
      "\u001b[1;32m<ipython-input-30-af36c252568c>\u001b[0m in \u001b[0;36m<module>\u001b[1;34m\u001b[0m\n\u001b[0;32m      1\u001b[0m gs = GridSearchCV(RFC(),           # 対象の機械学習モデル\n\u001b[1;32m----> 2\u001b[1;33m                   \u001b[0msearch_params\u001b[0m\u001b[1;33m,\u001b[0m   \u001b[1;31m# 探索パラメタ辞書\u001b[0m\u001b[1;33m\u001b[0m\u001b[1;33m\u001b[0m\u001b[0m\n\u001b[0m\u001b[0;32m      3\u001b[0m                   \u001b[0mcv\u001b[0m\u001b[1;33m=\u001b[0m\u001b[1;36m3\u001b[0m\u001b[1;33m,\u001b[0m            \u001b[1;31m# クロスバリデーションの分割数\u001b[0m\u001b[1;33m\u001b[0m\u001b[1;33m\u001b[0m\u001b[0m\n\u001b[0;32m      4\u001b[0m                   \u001b[0mverbose\u001b[0m\u001b[1;33m=\u001b[0m\u001b[1;32mTrue\u001b[0m\u001b[1;33m,\u001b[0m    \u001b[1;31m# ログ表示\u001b[0m\u001b[1;33m\u001b[0m\u001b[1;33m\u001b[0m\u001b[0m\n\u001b[0;32m      5\u001b[0m                   n_jobs=-1)       # 並列処理\n",
      "\u001b[1;31mNameError\u001b[0m: name 'search_params' is not defined"
     ]
    }
   ],
   "source": [
    "gs = GridSearchCV(RFC(),           # 対象の機械学習モデル\n",
    "                  search_params,   # 探索パラメタ辞書\n",
    "                  cv=3,            # クロスバリデーションの分割数\n",
    "                  verbose=True,    # ログ表示\n",
    "                  n_jobs=-1)       # 並列処理\n",
    "gs.fit(df_train_x, df_train_y)\n",
    " \n",
    "print(gs.best_estimator_)"
   ]
  },
  {
   "cell_type": "code",
   "execution_count": 96,
   "metadata": {
    "ExecuteTime": {
     "end_time": "2020-05-11T07:46:20.574375Z",
     "start_time": "2020-05-11T07:46:06.457305Z"
    }
   },
   "outputs": [],
   "source": [
    "# 最高性能のモデルを取得し、テストデータを分類\n",
    "best = gs.best_estimator_\n",
    "predict_train_label =  pd.DataFrame(best.predict_proba(df_train_x))\n",
    "predict_test_label =  pd.DataFrame(best.predict_proba(df_test_x))"
   ]
  },
  {
   "cell_type": "code",
   "execution_count": 100,
   "metadata": {
    "ExecuteTime": {
     "end_time": "2020-05-11T07:49:27.900576Z",
     "start_time": "2020-05-11T07:49:27.887612Z"
    },
    "scrolled": true
   },
   "outputs": [
    {
     "data": {
      "text/plain": [
       "RandomForestClassifier(bootstrap=True, ccp_alpha=0.0, class_weight=None,\n",
       "                       criterion='gini', max_depth=30, max_features='auto',\n",
       "                       max_leaf_nodes=None, max_samples=None,\n",
       "                       min_impurity_decrease=0.0, min_impurity_split=None,\n",
       "                       min_samples_leaf=1, min_samples_split=50,\n",
       "                       min_weight_fraction_leaf=0.0, n_estimators=300,\n",
       "                       n_jobs=-1, oob_score=False, random_state=88, verbose=0,\n",
       "                       warm_start=False)"
      ]
     },
     "execution_count": 100,
     "metadata": {},
     "output_type": "execute_result"
    }
   ],
   "source": [
    "best"
   ]
  },
  {
   "cell_type": "code",
   "execution_count": 31,
   "metadata": {
    "ExecuteTime": {
     "end_time": "2020-05-11T15:53:03.875492Z",
     "start_time": "2020-05-11T15:52:36.402166Z"
    }
   },
   "outputs": [
    {
     "name": "stderr",
     "output_type": "stream",
     "text": [
      "C:\\Users\\bono_\\anaconda3\\lib\\site-packages\\ipykernel_launcher.py:10: DataConversionWarning: A column-vector y was passed when a 1d array was expected. Please change the shape of y to (n_samples,), for example using ravel().\n",
      "  # Remove the CWD from sys.path while we load stuff.\n",
      "[Parallel(n_jobs=-1)]: Using backend ThreadingBackend with 12 concurrent workers.\n",
      "[Parallel(n_jobs=-1)]: Done  26 tasks      | elapsed:    3.1s\n",
      "[Parallel(n_jobs=-1)]: Done 176 tasks      | elapsed:   16.2s\n",
      "[Parallel(n_jobs=-1)]: Done 300 out of 300 | elapsed:   27.2s finished\n"
     ]
    },
    {
     "data": {
      "text/plain": [
       "RandomForestClassifier(bootstrap=True, ccp_alpha=0.0, class_weight=None,\n",
       "                       criterion='gini', max_depth=30, max_features='auto',\n",
       "                       max_leaf_nodes=None, max_samples=None,\n",
       "                       min_impurity_decrease=0.0, min_impurity_split=None,\n",
       "                       min_samples_leaf=1, min_samples_split=50,\n",
       "                       min_weight_fraction_leaf=0.0, n_estimators=300,\n",
       "                       n_jobs=-1, oob_score=False, random_state=88,\n",
       "                       verbose=True, warm_start=False)"
      ]
     },
     "execution_count": 31,
     "metadata": {},
     "output_type": "execute_result"
    }
   ],
   "source": [
    "#RandomForestClassification　パラメータはGSのパラメータを代入\n",
    "\n",
    "\n",
    "clf = RFC(verbose=True,       # 学習中にログを表示します。この指定はなくてもOK\n",
    "          n_jobs=-1,          # 複数のCPUコアを使って並列に学習します。-1は最大値。\n",
    "          random_state=88,\n",
    "          n_estimators=300,\n",
    "          max_depth=30,\n",
    "          min_samples_split=50)  # 乱数のシードです。\n",
    "clf.fit(df_train_x, df_train_y)"
   ]
  },
  {
   "cell_type": "code",
   "execution_count": 12,
   "metadata": {
    "ExecuteTime": {
     "end_time": "2020-05-11T13:23:03.127830Z",
     "start_time": "2020-05-11T13:22:58.644684Z"
    }
   },
   "outputs": [
    {
     "name": "stderr",
     "output_type": "stream",
     "text": [
      "[Parallel(n_jobs=12)]: Using backend ThreadingBackend with 12 concurrent workers.\n",
      "[Parallel(n_jobs=12)]: Done  26 tasks      | elapsed:    0.2s\n",
      "[Parallel(n_jobs=12)]: Done 176 tasks      | elapsed:    1.6s\n",
      "[Parallel(n_jobs=12)]: Done 300 out of 300 | elapsed:    2.8s finished\n",
      "[Parallel(n_jobs=12)]: Using backend ThreadingBackend with 12 concurrent workers.\n",
      "[Parallel(n_jobs=12)]: Done  26 tasks      | elapsed:    0.0s\n",
      "[Parallel(n_jobs=12)]: Done 176 tasks      | elapsed:    0.6s\n",
      "[Parallel(n_jobs=12)]: Done 300 out of 300 | elapsed:    1.1s finished\n"
     ]
    },
    {
     "name": "stdout",
     "output_type": "stream",
     "text": [
      "Train:1.0365\n",
      "test:1.2157\n"
     ]
    }
   ],
   "source": [
    "#bestパラメータを代入したモデル\n",
    "\n",
    "\n",
    "predict_train_label =  pd.DataFrame(clf.predict_proba(df_train_x))\n",
    "predict_test_label =  pd.DataFrame(clf.predict_proba(df_test_x))\n",
    "# 評価関数　logloss関数\n",
    "from sklearn.metrics import log_loss\n",
    "print('Train:' +str(round(log_loss(df_train_y,predict_train_label),4)))\n",
    "print('test:' +str(round(log_loss(df_test_y,predict_test_label),4)))"
   ]
  },
  {
   "cell_type": "code",
   "execution_count": 97,
   "metadata": {
    "ExecuteTime": {
     "end_time": "2020-05-11T07:46:26.673403Z",
     "start_time": "2020-05-11T07:46:26.460464Z"
    },
    "scrolled": true
   },
   "outputs": [
    {
     "name": "stdout",
     "output_type": "stream",
     "text": [
      "Train:1.0365\n",
      "test:1.2157\n"
     ]
    }
   ],
   "source": [
    "# 評価関数　logloss関数\n",
    "from sklearn.metrics import log_loss\n",
    "print('Train:' +str(round(log_loss(df_train_y,predict_train_label),4)))\n",
    "print('test:' +str(round(log_loss(df_test_y,predict_test_label),4)))"
   ]
  },
  {
   "cell_type": "code",
   "execution_count": 31,
   "metadata": {
    "ExecuteTime": {
     "end_time": "2020-05-11T13:12:30.817626Z",
     "start_time": "2020-05-11T13:12:30.474723Z"
    }
   },
   "outputs": [],
   "source": [
    "#最適モデルを保存\n",
    "filename = '../yakiu_rawdata//RFC_GS.sav'\n",
    "pickle.dump(clf, open(filename, 'wb'))"
   ]
  },
  {
   "cell_type": "code",
   "execution_count": 107,
   "metadata": {
    "ExecuteTime": {
     "end_time": "2020-05-11T09:11:30.664744Z",
     "start_time": "2020-05-11T09:11:10.664583Z"
    },
    "scrolled": true
   },
   "outputs": [
    {
     "data": {
      "text/html": [
       "<div>\n",
       "<style scoped>\n",
       "    .dataframe tbody tr th:only-of-type {\n",
       "        vertical-align: middle;\n",
       "    }\n",
       "\n",
       "    .dataframe tbody tr th {\n",
       "        vertical-align: top;\n",
       "    }\n",
       "\n",
       "    .dataframe thead th {\n",
       "        text-align: right;\n",
       "    }\n",
       "</style>\n",
       "<table border=\"1\" class=\"dataframe\">\n",
       "  <thead>\n",
       "    <tr style=\"text-align: right;\">\n",
       "      <th></th>\n",
       "      <th>0</th>\n",
       "      <th>1</th>\n",
       "      <th>2</th>\n",
       "      <th>3</th>\n",
       "      <th>4</th>\n",
       "      <th>5</th>\n",
       "      <th>6</th>\n",
       "      <th>7</th>\n",
       "    </tr>\n",
       "  </thead>\n",
       "  <tbody>\n",
       "    <tr>\n",
       "      <th>0</th>\n",
       "      <td>0.481441</td>\n",
       "      <td>0.043310</td>\n",
       "      <td>0.076928</td>\n",
       "      <td>0.219366</td>\n",
       "      <td>0.004702</td>\n",
       "      <td>0.005748</td>\n",
       "      <td>0.014282</td>\n",
       "      <td>0.154223</td>\n",
       "    </tr>\n",
       "    <tr>\n",
       "      <th>1</th>\n",
       "      <td>0.400714</td>\n",
       "      <td>0.085667</td>\n",
       "      <td>0.095011</td>\n",
       "      <td>0.270303</td>\n",
       "      <td>0.011252</td>\n",
       "      <td>0.005487</td>\n",
       "      <td>0.010999</td>\n",
       "      <td>0.120567</td>\n",
       "    </tr>\n",
       "    <tr>\n",
       "      <th>2</th>\n",
       "      <td>0.331175</td>\n",
       "      <td>0.110353</td>\n",
       "      <td>0.130199</td>\n",
       "      <td>0.203566</td>\n",
       "      <td>0.050683</td>\n",
       "      <td>0.012045</td>\n",
       "      <td>0.017498</td>\n",
       "      <td>0.144482</td>\n",
       "    </tr>\n",
       "    <tr>\n",
       "      <th>3</th>\n",
       "      <td>0.294046</td>\n",
       "      <td>0.128074</td>\n",
       "      <td>0.112014</td>\n",
       "      <td>0.279901</td>\n",
       "      <td>0.034455</td>\n",
       "      <td>0.013561</td>\n",
       "      <td>0.021249</td>\n",
       "      <td>0.116701</td>\n",
       "    </tr>\n",
       "    <tr>\n",
       "      <th>4</th>\n",
       "      <td>0.283400</td>\n",
       "      <td>0.096845</td>\n",
       "      <td>0.134890</td>\n",
       "      <td>0.275935</td>\n",
       "      <td>0.052887</td>\n",
       "      <td>0.011507</td>\n",
       "      <td>0.021947</td>\n",
       "      <td>0.122588</td>\n",
       "    </tr>\n",
       "    <tr>\n",
       "      <th>...</th>\n",
       "      <td>...</td>\n",
       "      <td>...</td>\n",
       "      <td>...</td>\n",
       "      <td>...</td>\n",
       "      <td>...</td>\n",
       "      <td>...</td>\n",
       "      <td>...</td>\n",
       "      <td>...</td>\n",
       "    </tr>\n",
       "    <tr>\n",
       "      <th>521645</th>\n",
       "      <td>0.476242</td>\n",
       "      <td>0.065214</td>\n",
       "      <td>0.106057</td>\n",
       "      <td>0.054859</td>\n",
       "      <td>0.253371</td>\n",
       "      <td>0.020253</td>\n",
       "      <td>0.004328</td>\n",
       "      <td>0.019676</td>\n",
       "    </tr>\n",
       "    <tr>\n",
       "      <th>521646</th>\n",
       "      <td>0.449311</td>\n",
       "      <td>0.114375</td>\n",
       "      <td>0.108755</td>\n",
       "      <td>0.069422</td>\n",
       "      <td>0.216798</td>\n",
       "      <td>0.018654</td>\n",
       "      <td>0.003352</td>\n",
       "      <td>0.019331</td>\n",
       "    </tr>\n",
       "    <tr>\n",
       "      <th>521647</th>\n",
       "      <td>0.464766</td>\n",
       "      <td>0.080683</td>\n",
       "      <td>0.099250</td>\n",
       "      <td>0.067178</td>\n",
       "      <td>0.249444</td>\n",
       "      <td>0.017671</td>\n",
       "      <td>0.003242</td>\n",
       "      <td>0.017765</td>\n",
       "    </tr>\n",
       "    <tr>\n",
       "      <th>521648</th>\n",
       "      <td>0.522414</td>\n",
       "      <td>0.051942</td>\n",
       "      <td>0.088911</td>\n",
       "      <td>0.066626</td>\n",
       "      <td>0.232984</td>\n",
       "      <td>0.020864</td>\n",
       "      <td>0.003011</td>\n",
       "      <td>0.013248</td>\n",
       "    </tr>\n",
       "    <tr>\n",
       "      <th>521649</th>\n",
       "      <td>0.481788</td>\n",
       "      <td>0.062325</td>\n",
       "      <td>0.088642</td>\n",
       "      <td>0.062743</td>\n",
       "      <td>0.261864</td>\n",
       "      <td>0.022831</td>\n",
       "      <td>0.003513</td>\n",
       "      <td>0.016294</td>\n",
       "    </tr>\n",
       "  </tbody>\n",
       "</table>\n",
       "<p>521650 rows × 8 columns</p>\n",
       "</div>"
      ],
      "text/plain": [
       "               0         1         2         3         4         5         6  \\\n",
       "0       0.481441  0.043310  0.076928  0.219366  0.004702  0.005748  0.014282   \n",
       "1       0.400714  0.085667  0.095011  0.270303  0.011252  0.005487  0.010999   \n",
       "2       0.331175  0.110353  0.130199  0.203566  0.050683  0.012045  0.017498   \n",
       "3       0.294046  0.128074  0.112014  0.279901  0.034455  0.013561  0.021249   \n",
       "4       0.283400  0.096845  0.134890  0.275935  0.052887  0.011507  0.021947   \n",
       "...          ...       ...       ...       ...       ...       ...       ...   \n",
       "521645  0.476242  0.065214  0.106057  0.054859  0.253371  0.020253  0.004328   \n",
       "521646  0.449311  0.114375  0.108755  0.069422  0.216798  0.018654  0.003352   \n",
       "521647  0.464766  0.080683  0.099250  0.067178  0.249444  0.017671  0.003242   \n",
       "521648  0.522414  0.051942  0.088911  0.066626  0.232984  0.020864  0.003011   \n",
       "521649  0.481788  0.062325  0.088642  0.062743  0.261864  0.022831  0.003513   \n",
       "\n",
       "               7  \n",
       "0       0.154223  \n",
       "1       0.120567  \n",
       "2       0.144482  \n",
       "3       0.116701  \n",
       "4       0.122588  \n",
       "...          ...  \n",
       "521645  0.019676  \n",
       "521646  0.019331  \n",
       "521647  0.017765  \n",
       "521648  0.013248  \n",
       "521649  0.016294  \n",
       "\n",
       "[521650 rows x 8 columns]"
      ]
     },
     "execution_count": 107,
     "metadata": {},
     "output_type": "execute_result"
    }
   ],
   "source": [
    "#保存モデルをロードしてpredictする。\n",
    "loaded_model = pickle.load(open(filename, 'rb'))\n",
    "result = loaded_model.predict_proba(df_test_merge)\n",
    "result = pd.DataFrame(submit_label)\n",
    "result"
   ]
  },
  {
   "cell_type": "markdown",
   "metadata": {},
   "source": [
    "### グリッドサーチで過学習が抑えられたので、Submitデータを作成する。"
   ]
  },
  {
   "cell_type": "code",
   "execution_count": 104,
   "metadata": {
    "ExecuteTime": {
     "end_time": "2020-05-11T09:08:14.876319Z",
     "start_time": "2020-05-11T09:07:59.915365Z"
    },
    "scrolled": true
   },
   "outputs": [],
   "source": [
    "submit_label = best.predict_proba(df_test_merge)"
   ]
  },
  {
   "cell_type": "code",
   "execution_count": 105,
   "metadata": {
    "ExecuteTime": {
     "end_time": "2020-05-11T09:08:23.534448Z",
     "start_time": "2020-05-11T09:08:23.447674Z"
    },
    "scrolled": false
   },
   "outputs": [
    {
     "data": {
      "text/html": [
       "<div>\n",
       "<style scoped>\n",
       "    .dataframe tbody tr th:only-of-type {\n",
       "        vertical-align: middle;\n",
       "    }\n",
       "\n",
       "    .dataframe tbody tr th {\n",
       "        vertical-align: top;\n",
       "    }\n",
       "\n",
       "    .dataframe thead th {\n",
       "        text-align: right;\n",
       "    }\n",
       "</style>\n",
       "<table border=\"1\" class=\"dataframe\">\n",
       "  <thead>\n",
       "    <tr style=\"text-align: right;\">\n",
       "      <th></th>\n",
       "      <th>0</th>\n",
       "      <th>1</th>\n",
       "      <th>2</th>\n",
       "      <th>3</th>\n",
       "      <th>4</th>\n",
       "      <th>5</th>\n",
       "      <th>6</th>\n",
       "      <th>7</th>\n",
       "    </tr>\n",
       "  </thead>\n",
       "  <tbody>\n",
       "    <tr>\n",
       "      <th>0</th>\n",
       "      <td>0.481441</td>\n",
       "      <td>0.043310</td>\n",
       "      <td>0.076928</td>\n",
       "      <td>0.219366</td>\n",
       "      <td>0.004702</td>\n",
       "      <td>0.005748</td>\n",
       "      <td>0.014282</td>\n",
       "      <td>0.154223</td>\n",
       "    </tr>\n",
       "    <tr>\n",
       "      <th>1</th>\n",
       "      <td>0.400714</td>\n",
       "      <td>0.085667</td>\n",
       "      <td>0.095011</td>\n",
       "      <td>0.270303</td>\n",
       "      <td>0.011252</td>\n",
       "      <td>0.005487</td>\n",
       "      <td>0.010999</td>\n",
       "      <td>0.120567</td>\n",
       "    </tr>\n",
       "    <tr>\n",
       "      <th>2</th>\n",
       "      <td>0.331175</td>\n",
       "      <td>0.110353</td>\n",
       "      <td>0.130199</td>\n",
       "      <td>0.203566</td>\n",
       "      <td>0.050683</td>\n",
       "      <td>0.012045</td>\n",
       "      <td>0.017498</td>\n",
       "      <td>0.144482</td>\n",
       "    </tr>\n",
       "    <tr>\n",
       "      <th>3</th>\n",
       "      <td>0.294046</td>\n",
       "      <td>0.128074</td>\n",
       "      <td>0.112014</td>\n",
       "      <td>0.279901</td>\n",
       "      <td>0.034455</td>\n",
       "      <td>0.013561</td>\n",
       "      <td>0.021249</td>\n",
       "      <td>0.116701</td>\n",
       "    </tr>\n",
       "    <tr>\n",
       "      <th>4</th>\n",
       "      <td>0.283400</td>\n",
       "      <td>0.096845</td>\n",
       "      <td>0.134890</td>\n",
       "      <td>0.275935</td>\n",
       "      <td>0.052887</td>\n",
       "      <td>0.011507</td>\n",
       "      <td>0.021947</td>\n",
       "      <td>0.122588</td>\n",
       "    </tr>\n",
       "    <tr>\n",
       "      <th>...</th>\n",
       "      <td>...</td>\n",
       "      <td>...</td>\n",
       "      <td>...</td>\n",
       "      <td>...</td>\n",
       "      <td>...</td>\n",
       "      <td>...</td>\n",
       "      <td>...</td>\n",
       "      <td>...</td>\n",
       "    </tr>\n",
       "    <tr>\n",
       "      <th>521645</th>\n",
       "      <td>0.476242</td>\n",
       "      <td>0.065214</td>\n",
       "      <td>0.106057</td>\n",
       "      <td>0.054859</td>\n",
       "      <td>0.253371</td>\n",
       "      <td>0.020253</td>\n",
       "      <td>0.004328</td>\n",
       "      <td>0.019676</td>\n",
       "    </tr>\n",
       "    <tr>\n",
       "      <th>521646</th>\n",
       "      <td>0.449311</td>\n",
       "      <td>0.114375</td>\n",
       "      <td>0.108755</td>\n",
       "      <td>0.069422</td>\n",
       "      <td>0.216798</td>\n",
       "      <td>0.018654</td>\n",
       "      <td>0.003352</td>\n",
       "      <td>0.019331</td>\n",
       "    </tr>\n",
       "    <tr>\n",
       "      <th>521647</th>\n",
       "      <td>0.464766</td>\n",
       "      <td>0.080683</td>\n",
       "      <td>0.099250</td>\n",
       "      <td>0.067178</td>\n",
       "      <td>0.249444</td>\n",
       "      <td>0.017671</td>\n",
       "      <td>0.003242</td>\n",
       "      <td>0.017765</td>\n",
       "    </tr>\n",
       "    <tr>\n",
       "      <th>521648</th>\n",
       "      <td>0.522414</td>\n",
       "      <td>0.051942</td>\n",
       "      <td>0.088911</td>\n",
       "      <td>0.066626</td>\n",
       "      <td>0.232984</td>\n",
       "      <td>0.020864</td>\n",
       "      <td>0.003011</td>\n",
       "      <td>0.013248</td>\n",
       "    </tr>\n",
       "    <tr>\n",
       "      <th>521649</th>\n",
       "      <td>0.481788</td>\n",
       "      <td>0.062325</td>\n",
       "      <td>0.088642</td>\n",
       "      <td>0.062743</td>\n",
       "      <td>0.261864</td>\n",
       "      <td>0.022831</td>\n",
       "      <td>0.003513</td>\n",
       "      <td>0.016294</td>\n",
       "    </tr>\n",
       "  </tbody>\n",
       "</table>\n",
       "<p>521650 rows × 8 columns</p>\n",
       "</div>"
      ],
      "text/plain": [
       "               0         1         2         3         4         5         6  \\\n",
       "0       0.481441  0.043310  0.076928  0.219366  0.004702  0.005748  0.014282   \n",
       "1       0.400714  0.085667  0.095011  0.270303  0.011252  0.005487  0.010999   \n",
       "2       0.331175  0.110353  0.130199  0.203566  0.050683  0.012045  0.017498   \n",
       "3       0.294046  0.128074  0.112014  0.279901  0.034455  0.013561  0.021249   \n",
       "4       0.283400  0.096845  0.134890  0.275935  0.052887  0.011507  0.021947   \n",
       "...          ...       ...       ...       ...       ...       ...       ...   \n",
       "521645  0.476242  0.065214  0.106057  0.054859  0.253371  0.020253  0.004328   \n",
       "521646  0.449311  0.114375  0.108755  0.069422  0.216798  0.018654  0.003352   \n",
       "521647  0.464766  0.080683  0.099250  0.067178  0.249444  0.017671  0.003242   \n",
       "521648  0.522414  0.051942  0.088911  0.066626  0.232984  0.020864  0.003011   \n",
       "521649  0.481788  0.062325  0.088642  0.062743  0.261864  0.022831  0.003513   \n",
       "\n",
       "               7  \n",
       "0       0.154223  \n",
       "1       0.120567  \n",
       "2       0.144482  \n",
       "3       0.116701  \n",
       "4       0.122588  \n",
       "...          ...  \n",
       "521645  0.019676  \n",
       "521646  0.019331  \n",
       "521647  0.017765  \n",
       "521648  0.013248  \n",
       "521649  0.016294  \n",
       "\n",
       "[521650 rows x 8 columns]"
      ]
     },
     "execution_count": 105,
     "metadata": {},
     "output_type": "execute_result"
    }
   ],
   "source": [
    "submit_label = pd.DataFrame(submit_label)\n",
    "submit_label"
   ]
  },
  {
   "cell_type": "code",
   "execution_count": 106,
   "metadata": {
    "ExecuteTime": {
     "end_time": "2020-05-11T09:08:46.477780Z",
     "start_time": "2020-05-11T09:08:38.371166Z"
    }
   },
   "outputs": [],
   "source": [
    "submit_label.to_csv(\"200511_submit_RFC_GS.csv\",header=False,index=True)"
   ]
  },
  {
   "cell_type": "markdown",
   "metadata": {},
   "source": [
    "## 非線形SVM\n",
    "　確率を返す問題は適さないね。\n",
    "- http://www.asnm4.com/2019/10/svm%E3%81%A7%E3%82%B0%E3%83%AA%E3%83%83%E3%83%89%E3%82%B5%E3%83%BC%E3%83%81/\n",
    "- https://scikit-learn.org/stable/auto_examples/svm/plot_rbf_parameters.html\n",
    "- https://scikit-learn.org/stable/modules/generated/sklearn.svm.SVC.html\n",
    "- https://qiita.com/sotetsuk/items/3a5718bb1f945a383ceb"
   ]
  },
  {
   "cell_type": "code",
   "execution_count": 11,
   "metadata": {
    "ExecuteTime": {
     "end_time": "2020-05-11T15:13:46.944642Z",
     "start_time": "2020-05-11T15:13:46.888942Z"
    }
   },
   "outputs": [],
   "source": [
    "from sklearn.datasets import load_digits\n",
    "from sklearn.multiclass import OneVsRestClassifier\n",
    "from sklearn.svm import SVC\n",
    "from sklearn import svm\n",
    "from sklearn.metrics import accuracy_score"
   ]
  },
  {
   "cell_type": "code",
   "execution_count": 4,
   "metadata": {
    "ExecuteTime": {
     "end_time": "2020-05-11T13:29:59.947096Z",
     "start_time": "2020-05-11T13:29:59.942109Z"
    }
   },
   "outputs": [],
   "source": [
    "param_grid = {'C': [0.1, 1, 10, 100, 1000], 'gamma': [1, 0.1, 0.01, 0.001, 0.0001], 'kernel': ['rbf']}"
   ]
  },
  {
   "cell_type": "code",
   "execution_count": 12,
   "metadata": {
    "ExecuteTime": {
     "end_time": "2020-05-11T14:09:51.110672Z",
     "start_time": "2020-05-11T14:09:49.025086Z"
    },
    "scrolled": true
   },
   "outputs": [
    {
     "name": "stdout",
     "output_type": "stream",
     "text": [
      "Fitting 5 folds for each of 16 candidates, totalling 80 fits\n"
     ]
    },
    {
     "name": "stderr",
     "output_type": "stream",
     "text": [
      "[Parallel(n_jobs=-1)]: Using backend LokyBackend with 12 concurrent workers.\n"
     ]
    },
    {
     "ename": "ValueError",
     "evalue": "Invalid parameter gamma for estimator LinearSVC(C=0.1, class_weight=None, dual=True, fit_intercept=True,\n          intercept_scaling=1, loss='squared_hinge', max_iter=1000,\n          multi_class='ovr', penalty='l2', random_state=None, tol=0.0001,\n          verbose=0). Check the list of available parameters with `estimator.get_params().keys()`.",
     "output_type": "error",
     "traceback": [
      "\u001b[1;31m---------------------------------------------------------------------------\u001b[0m",
      "\u001b[1;31m_RemoteTraceback\u001b[0m                          Traceback (most recent call last)",
      "\u001b[1;31m_RemoteTraceback\u001b[0m: \n\"\"\"\nTraceback (most recent call last):\n  File \"C:\\Users\\bono_\\anaconda3\\lib\\site-packages\\joblib\\externals\\loky\\process_executor.py\", line 418, in _process_worker\n    r = call_item()\n  File \"C:\\Users\\bono_\\anaconda3\\lib\\site-packages\\joblib\\externals\\loky\\process_executor.py\", line 272, in __call__\n    return self.fn(*self.args, **self.kwargs)\n  File \"C:\\Users\\bono_\\anaconda3\\lib\\site-packages\\joblib\\_parallel_backends.py\", line 608, in __call__\n    return self.func(*args, **kwargs)\n  File \"C:\\Users\\bono_\\anaconda3\\lib\\site-packages\\joblib\\parallel.py\", line 256, in __call__\n    for func, args, kwargs in self.items]\n  File \"C:\\Users\\bono_\\anaconda3\\lib\\site-packages\\joblib\\parallel.py\", line 256, in <listcomp>\n    for func, args, kwargs in self.items]\n  File \"C:\\Users\\bono_\\anaconda3\\lib\\site-packages\\sklearn\\model_selection\\_validation.py\", line 504, in _fit_and_score\n    estimator = estimator.set_params(**cloned_parameters)\n  File \"C:\\Users\\bono_\\anaconda3\\lib\\site-packages\\sklearn\\base.py\", line 236, in set_params\n    (key, self))\nValueError: Invalid parameter gamma for estimator LinearSVC(C=0.1, class_weight=None, dual=True, fit_intercept=True,\n          intercept_scaling=1, loss='squared_hinge', max_iter=1000,\n          multi_class='ovr', penalty='l2', random_state=None, tol=0.0001,\n          verbose=0). Check the list of available parameters with `estimator.get_params().keys()`.\n\"\"\"",
      "\nThe above exception was the direct cause of the following exception:\n",
      "\u001b[1;31mValueError\u001b[0m                                Traceback (most recent call last)",
      "\u001b[1;32m<ipython-input-12-4687bbc859d5>\u001b[0m in \u001b[0;36m<module>\u001b[1;34m\u001b[0m\n\u001b[0;32m      1\u001b[0m \u001b[0mgrid\u001b[0m \u001b[1;33m=\u001b[0m \u001b[0mGridSearchCV\u001b[0m\u001b[1;33m(\u001b[0m\u001b[0msvm\u001b[0m\u001b[1;33m.\u001b[0m\u001b[0mLinearSVC\u001b[0m\u001b[1;33m(\u001b[0m\u001b[1;33m)\u001b[0m\u001b[1;33m,\u001b[0m \u001b[0mparam_grid\u001b[0m\u001b[1;33m,\u001b[0m \u001b[0mrefit\u001b[0m \u001b[1;33m=\u001b[0m \u001b[1;32mTrue\u001b[0m\u001b[1;33m,\u001b[0m \u001b[0mverbose\u001b[0m \u001b[1;33m=\u001b[0m \u001b[1;36m3\u001b[0m\u001b[1;33m,\u001b[0m\u001b[0mn_jobs\u001b[0m\u001b[1;33m=\u001b[0m\u001b[1;33m-\u001b[0m\u001b[1;36m1\u001b[0m\u001b[1;33m)\u001b[0m\u001b[1;33m\u001b[0m\u001b[1;33m\u001b[0m\u001b[0m\n\u001b[1;32m----> 2\u001b[1;33m \u001b[0mgrid\u001b[0m\u001b[1;33m.\u001b[0m\u001b[0mfit\u001b[0m\u001b[1;33m(\u001b[0m\u001b[0mdf_train_x\u001b[0m \u001b[1;33m,\u001b[0m\u001b[0mdf_train_y\u001b[0m\u001b[1;33m)\u001b[0m\u001b[1;33m\u001b[0m\u001b[1;33m\u001b[0m\u001b[0m\n\u001b[0m",
      "\u001b[1;32m~\\anaconda3\\lib\\site-packages\\sklearn\\model_selection\\_search.py\u001b[0m in \u001b[0;36mfit\u001b[1;34m(self, X, y, groups, **fit_params)\u001b[0m\n\u001b[0;32m    708\u001b[0m                 \u001b[1;32mreturn\u001b[0m \u001b[0mresults\u001b[0m\u001b[1;33m\u001b[0m\u001b[1;33m\u001b[0m\u001b[0m\n\u001b[0;32m    709\u001b[0m \u001b[1;33m\u001b[0m\u001b[0m\n\u001b[1;32m--> 710\u001b[1;33m             \u001b[0mself\u001b[0m\u001b[1;33m.\u001b[0m\u001b[0m_run_search\u001b[0m\u001b[1;33m(\u001b[0m\u001b[0mevaluate_candidates\u001b[0m\u001b[1;33m)\u001b[0m\u001b[1;33m\u001b[0m\u001b[1;33m\u001b[0m\u001b[0m\n\u001b[0m\u001b[0;32m    711\u001b[0m \u001b[1;33m\u001b[0m\u001b[0m\n\u001b[0;32m    712\u001b[0m         \u001b[1;31m# For multi-metric evaluation, store the best_index_, best_params_ and\u001b[0m\u001b[1;33m\u001b[0m\u001b[1;33m\u001b[0m\u001b[1;33m\u001b[0m\u001b[0m\n",
      "\u001b[1;32m~\\anaconda3\\lib\\site-packages\\sklearn\\model_selection\\_search.py\u001b[0m in \u001b[0;36m_run_search\u001b[1;34m(self, evaluate_candidates)\u001b[0m\n\u001b[0;32m   1149\u001b[0m     \u001b[1;32mdef\u001b[0m \u001b[0m_run_search\u001b[0m\u001b[1;33m(\u001b[0m\u001b[0mself\u001b[0m\u001b[1;33m,\u001b[0m \u001b[0mevaluate_candidates\u001b[0m\u001b[1;33m)\u001b[0m\u001b[1;33m:\u001b[0m\u001b[1;33m\u001b[0m\u001b[1;33m\u001b[0m\u001b[0m\n\u001b[0;32m   1150\u001b[0m         \u001b[1;34m\"\"\"Search all candidates in param_grid\"\"\"\u001b[0m\u001b[1;33m\u001b[0m\u001b[1;33m\u001b[0m\u001b[0m\n\u001b[1;32m-> 1151\u001b[1;33m         \u001b[0mevaluate_candidates\u001b[0m\u001b[1;33m(\u001b[0m\u001b[0mParameterGrid\u001b[0m\u001b[1;33m(\u001b[0m\u001b[0mself\u001b[0m\u001b[1;33m.\u001b[0m\u001b[0mparam_grid\u001b[0m\u001b[1;33m)\u001b[0m\u001b[1;33m)\u001b[0m\u001b[1;33m\u001b[0m\u001b[1;33m\u001b[0m\u001b[0m\n\u001b[0m\u001b[0;32m   1152\u001b[0m \u001b[1;33m\u001b[0m\u001b[0m\n\u001b[0;32m   1153\u001b[0m \u001b[1;33m\u001b[0m\u001b[0m\n",
      "\u001b[1;32m~\\anaconda3\\lib\\site-packages\\sklearn\\model_selection\\_search.py\u001b[0m in \u001b[0;36mevaluate_candidates\u001b[1;34m(candidate_params)\u001b[0m\n\u001b[0;32m    687\u001b[0m                                \u001b[1;32mfor\u001b[0m \u001b[0mparameters\u001b[0m\u001b[1;33m,\u001b[0m \u001b[1;33m(\u001b[0m\u001b[0mtrain\u001b[0m\u001b[1;33m,\u001b[0m \u001b[0mtest\u001b[0m\u001b[1;33m)\u001b[0m\u001b[1;33m\u001b[0m\u001b[1;33m\u001b[0m\u001b[0m\n\u001b[0;32m    688\u001b[0m                                in product(candidate_params,\n\u001b[1;32m--> 689\u001b[1;33m                                           cv.split(X, y, groups)))\n\u001b[0m\u001b[0;32m    690\u001b[0m \u001b[1;33m\u001b[0m\u001b[0m\n\u001b[0;32m    691\u001b[0m                 \u001b[1;32mif\u001b[0m \u001b[0mlen\u001b[0m\u001b[1;33m(\u001b[0m\u001b[0mout\u001b[0m\u001b[1;33m)\u001b[0m \u001b[1;33m<\u001b[0m \u001b[1;36m1\u001b[0m\u001b[1;33m:\u001b[0m\u001b[1;33m\u001b[0m\u001b[1;33m\u001b[0m\u001b[0m\n",
      "\u001b[1;32m~\\anaconda3\\lib\\site-packages\\joblib\\parallel.py\u001b[0m in \u001b[0;36m__call__\u001b[1;34m(self, iterable)\u001b[0m\n\u001b[0;32m   1015\u001b[0m \u001b[1;33m\u001b[0m\u001b[0m\n\u001b[0;32m   1016\u001b[0m             \u001b[1;32mwith\u001b[0m \u001b[0mself\u001b[0m\u001b[1;33m.\u001b[0m\u001b[0m_backend\u001b[0m\u001b[1;33m.\u001b[0m\u001b[0mretrieval_context\u001b[0m\u001b[1;33m(\u001b[0m\u001b[1;33m)\u001b[0m\u001b[1;33m:\u001b[0m\u001b[1;33m\u001b[0m\u001b[1;33m\u001b[0m\u001b[0m\n\u001b[1;32m-> 1017\u001b[1;33m                 \u001b[0mself\u001b[0m\u001b[1;33m.\u001b[0m\u001b[0mretrieve\u001b[0m\u001b[1;33m(\u001b[0m\u001b[1;33m)\u001b[0m\u001b[1;33m\u001b[0m\u001b[1;33m\u001b[0m\u001b[0m\n\u001b[0m\u001b[0;32m   1018\u001b[0m             \u001b[1;31m# Make sure that we get a last message telling us we are done\u001b[0m\u001b[1;33m\u001b[0m\u001b[1;33m\u001b[0m\u001b[1;33m\u001b[0m\u001b[0m\n\u001b[0;32m   1019\u001b[0m             \u001b[0melapsed_time\u001b[0m \u001b[1;33m=\u001b[0m \u001b[0mtime\u001b[0m\u001b[1;33m.\u001b[0m\u001b[0mtime\u001b[0m\u001b[1;33m(\u001b[0m\u001b[1;33m)\u001b[0m \u001b[1;33m-\u001b[0m \u001b[0mself\u001b[0m\u001b[1;33m.\u001b[0m\u001b[0m_start_time\u001b[0m\u001b[1;33m\u001b[0m\u001b[1;33m\u001b[0m\u001b[0m\n",
      "\u001b[1;32m~\\anaconda3\\lib\\site-packages\\joblib\\parallel.py\u001b[0m in \u001b[0;36mretrieve\u001b[1;34m(self)\u001b[0m\n\u001b[0;32m    907\u001b[0m             \u001b[1;32mtry\u001b[0m\u001b[1;33m:\u001b[0m\u001b[1;33m\u001b[0m\u001b[1;33m\u001b[0m\u001b[0m\n\u001b[0;32m    908\u001b[0m                 \u001b[1;32mif\u001b[0m \u001b[0mgetattr\u001b[0m\u001b[1;33m(\u001b[0m\u001b[0mself\u001b[0m\u001b[1;33m.\u001b[0m\u001b[0m_backend\u001b[0m\u001b[1;33m,\u001b[0m \u001b[1;34m'supports_timeout'\u001b[0m\u001b[1;33m,\u001b[0m \u001b[1;32mFalse\u001b[0m\u001b[1;33m)\u001b[0m\u001b[1;33m:\u001b[0m\u001b[1;33m\u001b[0m\u001b[1;33m\u001b[0m\u001b[0m\n\u001b[1;32m--> 909\u001b[1;33m                     \u001b[0mself\u001b[0m\u001b[1;33m.\u001b[0m\u001b[0m_output\u001b[0m\u001b[1;33m.\u001b[0m\u001b[0mextend\u001b[0m\u001b[1;33m(\u001b[0m\u001b[0mjob\u001b[0m\u001b[1;33m.\u001b[0m\u001b[0mget\u001b[0m\u001b[1;33m(\u001b[0m\u001b[0mtimeout\u001b[0m\u001b[1;33m=\u001b[0m\u001b[0mself\u001b[0m\u001b[1;33m.\u001b[0m\u001b[0mtimeout\u001b[0m\u001b[1;33m)\u001b[0m\u001b[1;33m)\u001b[0m\u001b[1;33m\u001b[0m\u001b[1;33m\u001b[0m\u001b[0m\n\u001b[0m\u001b[0;32m    910\u001b[0m                 \u001b[1;32melse\u001b[0m\u001b[1;33m:\u001b[0m\u001b[1;33m\u001b[0m\u001b[1;33m\u001b[0m\u001b[0m\n\u001b[0;32m    911\u001b[0m                     \u001b[0mself\u001b[0m\u001b[1;33m.\u001b[0m\u001b[0m_output\u001b[0m\u001b[1;33m.\u001b[0m\u001b[0mextend\u001b[0m\u001b[1;33m(\u001b[0m\u001b[0mjob\u001b[0m\u001b[1;33m.\u001b[0m\u001b[0mget\u001b[0m\u001b[1;33m(\u001b[0m\u001b[1;33m)\u001b[0m\u001b[1;33m)\u001b[0m\u001b[1;33m\u001b[0m\u001b[1;33m\u001b[0m\u001b[0m\n",
      "\u001b[1;32m~\\anaconda3\\lib\\site-packages\\joblib\\_parallel_backends.py\u001b[0m in \u001b[0;36mwrap_future_result\u001b[1;34m(future, timeout)\u001b[0m\n\u001b[0;32m    560\u001b[0m         AsyncResults.get from multiprocessing.\"\"\"\n\u001b[0;32m    561\u001b[0m         \u001b[1;32mtry\u001b[0m\u001b[1;33m:\u001b[0m\u001b[1;33m\u001b[0m\u001b[1;33m\u001b[0m\u001b[0m\n\u001b[1;32m--> 562\u001b[1;33m             \u001b[1;32mreturn\u001b[0m \u001b[0mfuture\u001b[0m\u001b[1;33m.\u001b[0m\u001b[0mresult\u001b[0m\u001b[1;33m(\u001b[0m\u001b[0mtimeout\u001b[0m\u001b[1;33m=\u001b[0m\u001b[0mtimeout\u001b[0m\u001b[1;33m)\u001b[0m\u001b[1;33m\u001b[0m\u001b[1;33m\u001b[0m\u001b[0m\n\u001b[0m\u001b[0;32m    563\u001b[0m         \u001b[1;32mexcept\u001b[0m \u001b[0mLokyTimeoutError\u001b[0m\u001b[1;33m:\u001b[0m\u001b[1;33m\u001b[0m\u001b[1;33m\u001b[0m\u001b[0m\n\u001b[0;32m    564\u001b[0m             \u001b[1;32mraise\u001b[0m \u001b[0mTimeoutError\u001b[0m\u001b[1;33m(\u001b[0m\u001b[1;33m)\u001b[0m\u001b[1;33m\u001b[0m\u001b[1;33m\u001b[0m\u001b[0m\n",
      "\u001b[1;32m~\\anaconda3\\lib\\concurrent\\futures\\_base.py\u001b[0m in \u001b[0;36mresult\u001b[1;34m(self, timeout)\u001b[0m\n\u001b[0;32m    433\u001b[0m                 \u001b[1;32mraise\u001b[0m \u001b[0mCancelledError\u001b[0m\u001b[1;33m(\u001b[0m\u001b[1;33m)\u001b[0m\u001b[1;33m\u001b[0m\u001b[1;33m\u001b[0m\u001b[0m\n\u001b[0;32m    434\u001b[0m             \u001b[1;32melif\u001b[0m \u001b[0mself\u001b[0m\u001b[1;33m.\u001b[0m\u001b[0m_state\u001b[0m \u001b[1;33m==\u001b[0m \u001b[0mFINISHED\u001b[0m\u001b[1;33m:\u001b[0m\u001b[1;33m\u001b[0m\u001b[1;33m\u001b[0m\u001b[0m\n\u001b[1;32m--> 435\u001b[1;33m                 \u001b[1;32mreturn\u001b[0m \u001b[0mself\u001b[0m\u001b[1;33m.\u001b[0m\u001b[0m__get_result\u001b[0m\u001b[1;33m(\u001b[0m\u001b[1;33m)\u001b[0m\u001b[1;33m\u001b[0m\u001b[1;33m\u001b[0m\u001b[0m\n\u001b[0m\u001b[0;32m    436\u001b[0m             \u001b[1;32melse\u001b[0m\u001b[1;33m:\u001b[0m\u001b[1;33m\u001b[0m\u001b[1;33m\u001b[0m\u001b[0m\n\u001b[0;32m    437\u001b[0m                 \u001b[1;32mraise\u001b[0m \u001b[0mTimeoutError\u001b[0m\u001b[1;33m(\u001b[0m\u001b[1;33m)\u001b[0m\u001b[1;33m\u001b[0m\u001b[1;33m\u001b[0m\u001b[0m\n",
      "\u001b[1;32m~\\anaconda3\\lib\\concurrent\\futures\\_base.py\u001b[0m in \u001b[0;36m__get_result\u001b[1;34m(self)\u001b[0m\n\u001b[0;32m    382\u001b[0m     \u001b[1;32mdef\u001b[0m \u001b[0m__get_result\u001b[0m\u001b[1;33m(\u001b[0m\u001b[0mself\u001b[0m\u001b[1;33m)\u001b[0m\u001b[1;33m:\u001b[0m\u001b[1;33m\u001b[0m\u001b[1;33m\u001b[0m\u001b[0m\n\u001b[0;32m    383\u001b[0m         \u001b[1;32mif\u001b[0m \u001b[0mself\u001b[0m\u001b[1;33m.\u001b[0m\u001b[0m_exception\u001b[0m\u001b[1;33m:\u001b[0m\u001b[1;33m\u001b[0m\u001b[1;33m\u001b[0m\u001b[0m\n\u001b[1;32m--> 384\u001b[1;33m             \u001b[1;32mraise\u001b[0m \u001b[0mself\u001b[0m\u001b[1;33m.\u001b[0m\u001b[0m_exception\u001b[0m\u001b[1;33m\u001b[0m\u001b[1;33m\u001b[0m\u001b[0m\n\u001b[0m\u001b[0;32m    385\u001b[0m         \u001b[1;32melse\u001b[0m\u001b[1;33m:\u001b[0m\u001b[1;33m\u001b[0m\u001b[1;33m\u001b[0m\u001b[0m\n\u001b[0;32m    386\u001b[0m             \u001b[1;32mreturn\u001b[0m \u001b[0mself\u001b[0m\u001b[1;33m.\u001b[0m\u001b[0m_result\u001b[0m\u001b[1;33m\u001b[0m\u001b[1;33m\u001b[0m\u001b[0m\n",
      "\u001b[1;31mValueError\u001b[0m: Invalid parameter gamma for estimator LinearSVC(C=0.1, class_weight=None, dual=True, fit_intercept=True,\n          intercept_scaling=1, loss='squared_hinge', max_iter=1000,\n          multi_class='ovr', penalty='l2', random_state=None, tol=0.0001,\n          verbose=0). Check the list of available parameters with `estimator.get_params().keys()`."
     ]
    }
   ],
   "source": [
    "grid = GridSearchCV(SVC(), param_grid, refit = True, verbose = True,n_jobs=-1)\n",
    "grid.fit(df_train_x ,df_train_y)"
   ]
  },
  {
   "cell_type": "markdown",
   "metadata": {},
   "source": [
    "## 線形SVM\n",
    "　確率を返す問題は適さないね。\n",
    "- https://qiita.com/arata-honda/items/8d08f31aa7d7cbae4c91\n",
    "- https://scikit-learn.org/stable/modules/generated/sklearn.svm.LinearSVC.html?highlight=svm#sklearn.svm.LinearSVC\n",
    "\n",
    "- svm.LinerSVC()では分類するが確率は返さない。\n",
    "- SVC()でkernelを'linear'にして、probability=True（確率を返すコマンド）にしてモデリング。\n"
   ]
  },
  {
   "cell_type": "code",
   "execution_count": 34,
   "metadata": {
    "ExecuteTime": {
     "end_time": "2020-05-11T15:07:28.059526Z",
     "start_time": "2020-05-11T15:07:28.056549Z"
    }
   },
   "outputs": [],
   "source": [
    "param_grid = {'C': [100]}"
   ]
  },
  {
   "cell_type": "code",
   "execution_count": 35,
   "metadata": {
    "ExecuteTime": {
     "end_time": "2020-05-11T15:07:29.879299Z",
     "start_time": "2020-05-11T15:07:29.869326Z"
    },
    "scrolled": false
   },
   "outputs": [
    {
     "ename": "TypeError",
     "evalue": "__init__() got an unexpected keyword argument 'probability'",
     "output_type": "error",
     "traceback": [
      "\u001b[1;31m---------------------------------------------------------------------------\u001b[0m",
      "\u001b[1;31mTypeError\u001b[0m                                 Traceback (most recent call last)",
      "\u001b[1;32m<ipython-input-35-327662dbf763>\u001b[0m in \u001b[0;36m<module>\u001b[1;34m\u001b[0m\n\u001b[1;32m----> 1\u001b[1;33m \u001b[0mgrid\u001b[0m \u001b[1;33m=\u001b[0m \u001b[0mGridSearchCV\u001b[0m\u001b[1;33m(\u001b[0m\u001b[0msvm\u001b[0m\u001b[1;33m.\u001b[0m\u001b[0mLinearSVC\u001b[0m\u001b[1;33m(\u001b[0m\u001b[1;33m)\u001b[0m\u001b[1;33m,\u001b[0m \u001b[0mparam_grid\u001b[0m\u001b[1;33m,\u001b[0m \u001b[0mrefit\u001b[0m \u001b[1;33m=\u001b[0m \u001b[1;32mTrue\u001b[0m\u001b[1;33m,\u001b[0m \u001b[0mverbose\u001b[0m \u001b[1;33m=\u001b[0m \u001b[1;32mTrue\u001b[0m\u001b[1;33m,\u001b[0m\u001b[0mn_jobs\u001b[0m\u001b[1;33m=\u001b[0m\u001b[1;33m-\u001b[0m\u001b[1;36m1\u001b[0m\u001b[1;33m,\u001b[0m\u001b[0mprobability\u001b[0m \u001b[1;33m=\u001b[0m\u001b[1;32mTrue\u001b[0m\u001b[1;33m)\u001b[0m\u001b[1;33m\u001b[0m\u001b[1;33m\u001b[0m\u001b[0m\n\u001b[0m\u001b[0;32m      2\u001b[0m \u001b[0mgrid\u001b[0m\u001b[1;33m.\u001b[0m\u001b[0mfit\u001b[0m\u001b[1;33m(\u001b[0m\u001b[0mdf_train_x\u001b[0m \u001b[1;33m,\u001b[0m\u001b[0mdf_train_y\u001b[0m\u001b[1;33m)\u001b[0m\u001b[1;33m\u001b[0m\u001b[1;33m\u001b[0m\u001b[0m\n",
      "\u001b[1;31mTypeError\u001b[0m: __init__() got an unexpected keyword argument 'probability'"
     ]
    }
   ],
   "source": [
    "grid = GridSearchCV(svm.LinearSVC(), param_grid, refit = True, verbose = True,n_jobs=-1)\n",
    "grid.fit(df_train_x ,df_train_y)"
   ]
  },
  {
   "cell_type": "code",
   "execution_count": 16,
   "metadata": {
    "ExecuteTime": {
     "end_time": "2020-05-11T14:48:37.403658Z",
     "start_time": "2020-05-11T14:48:37.398632Z"
    },
    "scrolled": false
   },
   "outputs": [
    {
     "data": {
      "text/plain": [
       "LinearSVC(C=100, class_weight=None, dual=True, fit_intercept=True,\n",
       "          intercept_scaling=1, loss='squared_hinge', max_iter=1000,\n",
       "          multi_class='ovr', penalty='l2', random_state=None, tol=0.0001,\n",
       "          verbose=0)"
      ]
     },
     "execution_count": 16,
     "metadata": {},
     "output_type": "execute_result"
    }
   ],
   "source": [
    "# 最高性能のモデルを取得し、テストデータを分類\n",
    "best = grid.best_estimator_\n",
    "best"
   ]
  },
  {
   "cell_type": "code",
   "execution_count": null,
   "metadata": {
    "ExecuteTime": {
     "start_time": "2020-05-11T15:14:34.989Z"
    },
    "scrolled": false
   },
   "outputs": [
    {
     "name": "stderr",
     "output_type": "stream",
     "text": [
      "C:\\Users\\bono_\\anaconda3\\lib\\site-packages\\sklearn\\utils\\validation.py:760: DataConversionWarning: A column-vector y was passed when a 1d array was expected. Please change the shape of y to (n_samples, ), for example using ravel().\n",
      "  y = column_or_1d(y, warn=True)\n"
     ]
    },
    {
     "name": "stdout",
     "output_type": "stream",
     "text": [
      "[LibSVM]"
     ]
    }
   ],
   "source": [
    "#RandomForestClassification　パラメータはデフォルト\n",
    "SVM_L = SVC(verbose=True, \n",
    "                      C=100,      # 学習中にログを表示します。この指定はなくてもOK\n",
    "                                # 複数のCPUコアを使って並列に学習します。-1は最大値。\n",
    "                      random_state=88,\n",
    "                      probability=True,\n",
    "           kernel='linear')  # 乱数のシードです。\n",
    "SVM_L.fit(df_train_x ,df_train_y)"
   ]
  },
  {
   "cell_type": "code",
   "execution_count": 11,
   "metadata": {
    "ExecuteTime": {
     "end_time": "2020-05-11T15:34:56.820362Z",
     "start_time": "2020-05-11T15:34:56.817371Z"
    }
   },
   "outputs": [],
   "source": [
    "from sklearn.linear_model import LogisticRegression"
   ]
  },
  {
   "cell_type": "code",
   "execution_count": 27,
   "metadata": {
    "ExecuteTime": {
     "end_time": "2020-05-11T15:50:53.521739Z",
     "start_time": "2020-05-11T15:50:53.496814Z"
    }
   },
   "outputs": [
    {
     "data": {
      "text/html": [
       "<div>\n",
       "<style scoped>\n",
       "    .dataframe tbody tr th:only-of-type {\n",
       "        vertical-align: middle;\n",
       "    }\n",
       "\n",
       "    .dataframe tbody tr th {\n",
       "        vertical-align: top;\n",
       "    }\n",
       "\n",
       "    .dataframe thead th {\n",
       "        text-align: right;\n",
       "    }\n",
       "</style>\n",
       "<table border=\"1\" class=\"dataframe\">\n",
       "  <thead>\n",
       "    <tr style=\"text-align: right;\">\n",
       "      <th></th>\n",
       "      <th>試合内連番</th>\n",
       "      <th>試合内投球数</th>\n",
       "      <th>イニング</th>\n",
       "      <th>イニング内打席数</th>\n",
       "      <th>打席内投球数</th>\n",
       "      <th>投手登板順</th>\n",
       "      <th>投手試合内対戦打者数</th>\n",
       "      <th>投手試合内投球数</th>\n",
       "      <th>投手イニング内投球数</th>\n",
       "      <th>打者打順</th>\n",
       "      <th>打者試合内打席数</th>\n",
       "      <th>pitch_team_score</th>\n",
       "      <th>month</th>\n",
       "      <th>身長</th>\n",
       "      <th>体重</th>\n",
       "      <th>年俸</th>\n",
       "      <th>age</th>\n",
       "      <th>age_split</th>\n",
       "      <th>表裏_裏</th>\n",
       "      <th>投手投球左右_左</th>\n",
       "      <th>投手役割_救援</th>\n",
       "      <th>打者打席左右_左</th>\n",
       "      <th>打者守備位置_三</th>\n",
       "      <th>打者守備位置_中</th>\n",
       "      <th>打者守備位置_二</th>\n",
       "      <th>打者守備位置_右</th>\n",
       "      <th>打者守備位置_左</th>\n",
       "      <th>打者守備位置_打</th>\n",
       "      <th>打者守備位置_投</th>\n",
       "      <th>打者守備位置_指</th>\n",
       "      <th>打者守備位置_捕</th>\n",
       "      <th>打者守備位置_無</th>\n",
       "      <th>打者守備位置_遊</th>\n",
       "      <th>プレイ前走者状況_12_</th>\n",
       "      <th>プレイ前走者状況_1_3</th>\n",
       "      <th>プレイ前走者状況_1__</th>\n",
       "      <th>プレイ前走者状況__23</th>\n",
       "      <th>プレイ前走者状況__2_</th>\n",
       "      <th>プレイ前走者状況___3</th>\n",
       "      <th>プレイ前走者状況____</th>\n",
       "      <th>count_0-0-1</th>\n",
       "      <th>count_0-0-2</th>\n",
       "      <th>count_0-1-0</th>\n",
       "      <th>count_0-1-1</th>\n",
       "      <th>count_0-1-2</th>\n",
       "      <th>count_0-2-0</th>\n",
       "      <th>count_0-2-1</th>\n",
       "      <th>count_0-2-2</th>\n",
       "      <th>count_0-3-0</th>\n",
       "      <th>count_0-3-1</th>\n",
       "      <th>count_0-3-2</th>\n",
       "      <th>count_1-0-0</th>\n",
       "      <th>count_1-0-1</th>\n",
       "      <th>count_1-0-2</th>\n",
       "      <th>count_1-1-0</th>\n",
       "      <th>count_1-1-1</th>\n",
       "      <th>count_1-1-2</th>\n",
       "      <th>count_1-2-0</th>\n",
       "      <th>count_1-2-1</th>\n",
       "      <th>count_1-2-2</th>\n",
       "      <th>count_1-3-0</th>\n",
       "      <th>count_1-3-1</th>\n",
       "      <th>count_1-3-2</th>\n",
       "      <th>count_2-0-0</th>\n",
       "      <th>count_2-0-1</th>\n",
       "      <th>count_2-0-2</th>\n",
       "      <th>count_2-1-0</th>\n",
       "      <th>count_2-1-1</th>\n",
       "      <th>count_2-1-2</th>\n",
       "      <th>count_2-2-0</th>\n",
       "      <th>count_2-2-1</th>\n",
       "      <th>count_2-2-2</th>\n",
       "      <th>count_2-3-0</th>\n",
       "      <th>count_2-3-1</th>\n",
       "      <th>count_2-3-2</th>\n",
       "      <th>血液型_AB</th>\n",
       "      <th>血液型_B</th>\n",
       "      <th>血液型_O</th>\n",
       "      <th>血液型_不明</th>\n",
       "      <th>出身地域_北米</th>\n",
       "      <th>出身地域_日本</th>\n",
       "    </tr>\n",
       "  </thead>\n",
       "  <tbody>\n",
       "    <tr>\n",
       "      <th>181744</th>\n",
       "      <td>20</td>\n",
       "      <td>17</td>\n",
       "      <td>1</td>\n",
       "      <td>4</td>\n",
       "      <td>8</td>\n",
       "      <td>1</td>\n",
       "      <td>4</td>\n",
       "      <td>17</td>\n",
       "      <td>17</td>\n",
       "      <td>4</td>\n",
       "      <td>1</td>\n",
       "      <td>2</td>\n",
       "      <td>8</td>\n",
       "      <td>178</td>\n",
       "      <td>80</td>\n",
       "      <td>1500</td>\n",
       "      <td>25</td>\n",
       "      <td>5</td>\n",
       "      <td>0</td>\n",
       "      <td>0</td>\n",
       "      <td>0</td>\n",
       "      <td>0</td>\n",
       "      <td>1</td>\n",
       "      <td>0</td>\n",
       "      <td>0</td>\n",
       "      <td>0</td>\n",
       "      <td>0</td>\n",
       "      <td>0</td>\n",
       "      <td>0</td>\n",
       "      <td>0</td>\n",
       "      <td>0</td>\n",
       "      <td>0</td>\n",
       "      <td>0</td>\n",
       "      <td>0</td>\n",
       "      <td>0</td>\n",
       "      <td>0</td>\n",
       "      <td>0</td>\n",
       "      <td>0</td>\n",
       "      <td>0</td>\n",
       "      <td>1</td>\n",
       "      <td>0</td>\n",
       "      <td>0</td>\n",
       "      <td>0</td>\n",
       "      <td>0</td>\n",
       "      <td>0</td>\n",
       "      <td>0</td>\n",
       "      <td>0</td>\n",
       "      <td>0</td>\n",
       "      <td>0</td>\n",
       "      <td>0</td>\n",
       "      <td>0</td>\n",
       "      <td>0</td>\n",
       "      <td>0</td>\n",
       "      <td>0</td>\n",
       "      <td>0</td>\n",
       "      <td>0</td>\n",
       "      <td>0</td>\n",
       "      <td>0</td>\n",
       "      <td>0</td>\n",
       "      <td>0</td>\n",
       "      <td>0</td>\n",
       "      <td>0</td>\n",
       "      <td>0</td>\n",
       "      <td>0</td>\n",
       "      <td>0</td>\n",
       "      <td>0</td>\n",
       "      <td>0</td>\n",
       "      <td>0</td>\n",
       "      <td>0</td>\n",
       "      <td>0</td>\n",
       "      <td>1</td>\n",
       "      <td>0</td>\n",
       "      <td>0</td>\n",
       "      <td>0</td>\n",
       "      <td>0</td>\n",
       "      <td>0</td>\n",
       "      <td>0</td>\n",
       "      <td>0</td>\n",
       "      <td>0</td>\n",
       "      <td>0</td>\n",
       "      <td>1</td>\n",
       "    </tr>\n",
       "  </tbody>\n",
       "</table>\n",
       "</div>"
      ],
      "text/plain": [
       "        試合内連番  試合内投球数  イニング  イニング内打席数  打席内投球数  投手登板順  投手試合内対戦打者数  投手試合内投球数  \\\n",
       "181744     20      17     1         4       8      1           4        17   \n",
       "\n",
       "        投手イニング内投球数  打者打順  打者試合内打席数  pitch_team_score  month   身長  体重    年俸  \\\n",
       "181744          17     4         1                 2      8  178  80  1500   \n",
       "\n",
       "        age  age_split  表裏_裏  投手投球左右_左  投手役割_救援  打者打席左右_左  打者守備位置_三  打者守備位置_中  \\\n",
       "181744   25          5     0         0        0         0         1         0   \n",
       "\n",
       "        打者守備位置_二  打者守備位置_右  打者守備位置_左  打者守備位置_打  打者守備位置_投  打者守備位置_指  打者守備位置_捕  \\\n",
       "181744         0         0         0         0         0         0         0   \n",
       "\n",
       "        打者守備位置_無  打者守備位置_遊  プレイ前走者状況_12_  プレイ前走者状況_1_3  プレイ前走者状況_1__  \\\n",
       "181744         0         0             0             0             0   \n",
       "\n",
       "        プレイ前走者状況__23  プレイ前走者状況__2_  プレイ前走者状況___3  プレイ前走者状況____  count_0-0-1  \\\n",
       "181744             0             0             0             1            0   \n",
       "\n",
       "        count_0-0-2  count_0-1-0  count_0-1-1  count_0-1-2  count_0-2-0  \\\n",
       "181744            0            0            0            0            0   \n",
       "\n",
       "        count_0-2-1  count_0-2-2  count_0-3-0  count_0-3-1  count_0-3-2  \\\n",
       "181744            0            0            0            0            0   \n",
       "\n",
       "        count_1-0-0  count_1-0-1  count_1-0-2  count_1-1-0  count_1-1-1  \\\n",
       "181744            0            0            0            0            0   \n",
       "\n",
       "        count_1-1-2  count_1-2-0  count_1-2-1  count_1-2-2  count_1-3-0  \\\n",
       "181744            0            0            0            0            0   \n",
       "\n",
       "        count_1-3-1  count_1-3-2  count_2-0-0  count_2-0-1  count_2-0-2  \\\n",
       "181744            0            0            0            0            0   \n",
       "\n",
       "        count_2-1-0  count_2-1-1  count_2-1-2  count_2-2-0  count_2-2-1  \\\n",
       "181744            0            0            0            0            1   \n",
       "\n",
       "        count_2-2-2  count_2-3-0  count_2-3-1  count_2-3-2  血液型_AB  血液型_B  \\\n",
       "181744            0            0            0            0       0      0   \n",
       "\n",
       "        血液型_O  血液型_不明  出身地域_北米  出身地域_日本  \n",
       "181744      0       0        0        1  "
      ]
     },
     "execution_count": 27,
     "metadata": {},
     "output_type": "execute_result"
    }
   ],
   "source": [
    "df_train_x.head(1)"
   ]
  },
  {
   "cell_type": "code",
   "execution_count": 33,
   "metadata": {
    "ExecuteTime": {
     "end_time": "2020-05-11T15:55:42.711720Z",
     "start_time": "2020-05-11T15:55:29.828929Z"
    },
    "scrolled": true
   },
   "outputs": [
    {
     "name": "stderr",
     "output_type": "stream",
     "text": [
      "C:\\Users\\bono_\\anaconda3\\lib\\site-packages\\sklearn\\utils\\validation.py:760: DataConversionWarning: A column-vector y was passed when a 1d array was expected. Please change the shape of y to (n_samples, ), for example using ravel().\n",
      "  y = column_or_1d(y, warn=True)\n",
      "C:\\Users\\bono_\\anaconda3\\lib\\site-packages\\sklearn\\linear_model\\_logistic.py:940: ConvergenceWarning: lbfgs failed to converge (status=1):\n",
      "STOP: TOTAL NO. of ITERATIONS REACHED LIMIT.\n",
      "\n",
      "Increase the number of iterations (max_iter) or scale the data as shown in:\n",
      "    https://scikit-learn.org/stable/modules/preprocessing.html\n",
      "Please also refer to the documentation for alternative solver options:\n",
      "    https://scikit-learn.org/stable/modules/linear_model.html#logistic-regression\n",
      "  extra_warning_msg=_LOGISTIC_SOLVER_CONVERGENCE_MSG)\n"
     ]
    },
    {
     "data": {
      "text/plain": [
       "LogisticRegression(C=1.0, class_weight=None, dual=False, fit_intercept=True,\n",
       "                   intercept_scaling=1, l1_ratio=None, max_iter=100,\n",
       "                   multi_class='auto', n_jobs=None, penalty='l2',\n",
       "                   random_state=None, solver='lbfgs', tol=0.0001, verbose=0,\n",
       "                   warm_start=False)"
      ]
     },
     "execution_count": 33,
     "metadata": {},
     "output_type": "execute_result"
    }
   ],
   "source": [
    "logreg = LogisticRegression()\n",
    "logreg.fit(df_train_x, df_train_y)"
   ]
  },
  {
   "cell_type": "code",
   "execution_count": 14,
   "metadata": {
    "ExecuteTime": {
     "end_time": "2020-05-11T15:37:10.976829Z",
     "start_time": "2020-05-11T15:37:10.682301Z"
    }
   },
   "outputs": [
    {
     "name": "stdout",
     "output_type": "stream",
     "text": [
      "Train:1.614\n",
      "test:1.6149\n"
     ]
    }
   ],
   "source": [
    "#bestパラメータを代入したモデル\n",
    "predict_train_label_R =  pd.DataFrame(logreg.predict_proba(df_train_x))\n",
    "predict_test_label_R =  pd.DataFrame(logreg.predict_proba(df_test_x))\n",
    "# 評価関数　logloss関数\n",
    "from sklearn.metrics import log_loss\n",
    "print('Train:' +str(round(log_loss(df_train_y,predict_train_label_R),4)))\n",
    "print('test:' +str(round(log_loss(df_test_y,predict_test_label_R),4)))"
   ]
  },
  {
   "cell_type": "code",
   "execution_count": 34,
   "metadata": {
    "ExecuteTime": {
     "end_time": "2020-05-11T15:55:54.142191Z",
     "start_time": "2020-05-11T15:55:47.810259Z"
    },
    "scrolled": true
   },
   "outputs": [
    {
     "name": "stderr",
     "output_type": "stream",
     "text": [
      "[Parallel(n_jobs=12)]: Using backend ThreadingBackend with 12 concurrent workers.\n",
      "[Parallel(n_jobs=12)]: Done  26 tasks      | elapsed:    0.5s\n",
      "[Parallel(n_jobs=12)]: Done 176 tasks      | elapsed:    3.4s\n",
      "[Parallel(n_jobs=12)]: Done 300 out of 300 | elapsed:    5.7s finished\n"
     ]
    }
   ],
   "source": [
    "#bestパラメータを代入したモデル\n",
    "submit_RF = clf.predict_proba(df_test_merge)\n",
    "submit_R = logreg.predict_proba(df_test_merge)"
   ]
  },
  {
   "cell_type": "code",
   "execution_count": 35,
   "metadata": {
    "ExecuteTime": {
     "end_time": "2020-05-11T15:56:14.430248Z",
     "start_time": "2020-05-11T15:56:14.426258Z"
    }
   },
   "outputs": [
    {
     "name": "stdout",
     "output_type": "stream",
     "text": [
      "[[0.4814413  0.04330993 0.07692796 ... 0.00574772 0.01428211 0.15422302]\n",
      " [0.40071383 0.08566727 0.09501092 ... 0.00548674 0.01099886 0.12056749]\n",
      " [0.33117455 0.11035295 0.13019923 ... 0.01204452 0.01749831 0.14448189]\n",
      " ...\n",
      " [0.46476636 0.08068313 0.09924997 ... 0.01767136 0.0032423  0.01776483]\n",
      " [0.52241417 0.05194163 0.0889113  ... 0.02086443 0.00301076 0.01324758]\n",
      " [0.48178811 0.06232485 0.08864233 ... 0.02283101 0.00351299 0.01629433]]\n",
      "[[0.35991714 0.16974664 0.13347776 ... 0.07590353 0.03432561 0.07188992]\n",
      " [0.3601159  0.1696004  0.13377786 ... 0.07582924 0.03405733 0.07179442]\n",
      " [0.36028836 0.16943973 0.13406493 ... 0.07575952 0.03380302 0.07170208]\n",
      " ...\n",
      " [0.46986369 0.06225272 0.20765605 ... 0.04362624 0.00449602 0.04122997]\n",
      " [0.46980364 0.06215601 0.20797587 ... 0.04355952 0.00445973 0.0411519 ]\n",
      " [0.46974285 0.06205944 0.20829597 ... 0.0434929  0.00442372 0.04107392]]\n"
     ]
    }
   ],
   "source": [
    "print(submit_RF)\n",
    "print(submit_R)"
   ]
  },
  {
   "cell_type": "code",
   "execution_count": 39,
   "metadata": {
    "ExecuteTime": {
     "end_time": "2020-05-11T15:57:47.143149Z",
     "start_time": "2020-05-11T15:57:47.097272Z"
    }
   },
   "outputs": [
    {
     "data": {
      "text/html": [
       "<div>\n",
       "<style scoped>\n",
       "    .dataframe tbody tr th:only-of-type {\n",
       "        vertical-align: middle;\n",
       "    }\n",
       "\n",
       "    .dataframe tbody tr th {\n",
       "        vertical-align: top;\n",
       "    }\n",
       "\n",
       "    .dataframe thead th {\n",
       "        text-align: right;\n",
       "    }\n",
       "</style>\n",
       "<table border=\"1\" class=\"dataframe\">\n",
       "  <thead>\n",
       "    <tr style=\"text-align: right;\">\n",
       "      <th></th>\n",
       "      <th>0</th>\n",
       "      <th>1</th>\n",
       "      <th>2</th>\n",
       "      <th>3</th>\n",
       "      <th>4</th>\n",
       "      <th>5</th>\n",
       "      <th>6</th>\n",
       "      <th>7</th>\n",
       "    </tr>\n",
       "  </thead>\n",
       "  <tbody>\n",
       "    <tr>\n",
       "      <th>0</th>\n",
       "      <td>0.420679</td>\n",
       "      <td>0.106528</td>\n",
       "      <td>0.105203</td>\n",
       "      <td>0.140793</td>\n",
       "      <td>0.048610</td>\n",
       "      <td>0.040826</td>\n",
       "      <td>0.024304</td>\n",
       "      <td>0.113056</td>\n",
       "    </tr>\n",
       "    <tr>\n",
       "      <th>1</th>\n",
       "      <td>0.380415</td>\n",
       "      <td>0.127634</td>\n",
       "      <td>0.114394</td>\n",
       "      <td>0.166259</td>\n",
       "      <td>0.051931</td>\n",
       "      <td>0.040658</td>\n",
       "      <td>0.022528</td>\n",
       "      <td>0.096181</td>\n",
       "    </tr>\n",
       "    <tr>\n",
       "      <th>2</th>\n",
       "      <td>0.345731</td>\n",
       "      <td>0.139896</td>\n",
       "      <td>0.132132</td>\n",
       "      <td>0.132893</td>\n",
       "      <td>0.071702</td>\n",
       "      <td>0.043902</td>\n",
       "      <td>0.025651</td>\n",
       "      <td>0.108092</td>\n",
       "    </tr>\n",
       "    <tr>\n",
       "      <th>3</th>\n",
       "      <td>0.327249</td>\n",
       "      <td>0.148690</td>\n",
       "      <td>0.123191</td>\n",
       "      <td>0.171060</td>\n",
       "      <td>0.063634</td>\n",
       "      <td>0.044625</td>\n",
       "      <td>0.027395</td>\n",
       "      <td>0.094156</td>\n",
       "    </tr>\n",
       "    <tr>\n",
       "      <th>4</th>\n",
       "      <td>0.322012</td>\n",
       "      <td>0.132995</td>\n",
       "      <td>0.134773</td>\n",
       "      <td>0.169080</td>\n",
       "      <td>0.072905</td>\n",
       "      <td>0.043563</td>\n",
       "      <td>0.027619</td>\n",
       "      <td>0.097053</td>\n",
       "    </tr>\n",
       "    <tr>\n",
       "      <th>...</th>\n",
       "      <td>...</td>\n",
       "      <td>...</td>\n",
       "      <td>...</td>\n",
       "      <td>...</td>\n",
       "      <td>...</td>\n",
       "      <td>...</td>\n",
       "      <td>...</td>\n",
       "      <td>...</td>\n",
       "    </tr>\n",
       "    <tr>\n",
       "      <th>521645</th>\n",
       "      <td>0.473193</td>\n",
       "      <td>0.063810</td>\n",
       "      <td>0.156504</td>\n",
       "      <td>0.065105</td>\n",
       "      <td>0.174417</td>\n",
       "      <td>0.032001</td>\n",
       "      <td>0.004448</td>\n",
       "      <td>0.030522</td>\n",
       "    </tr>\n",
       "    <tr>\n",
       "      <th>521646</th>\n",
       "      <td>0.459617</td>\n",
       "      <td>0.088362</td>\n",
       "      <td>0.158046</td>\n",
       "      <td>0.072383</td>\n",
       "      <td>0.156156</td>\n",
       "      <td>0.031174</td>\n",
       "      <td>0.003943</td>\n",
       "      <td>0.030320</td>\n",
       "    </tr>\n",
       "    <tr>\n",
       "      <th>521647</th>\n",
       "      <td>0.467315</td>\n",
       "      <td>0.071468</td>\n",
       "      <td>0.153453</td>\n",
       "      <td>0.071242</td>\n",
       "      <td>0.172507</td>\n",
       "      <td>0.030649</td>\n",
       "      <td>0.003869</td>\n",
       "      <td>0.029497</td>\n",
       "    </tr>\n",
       "    <tr>\n",
       "      <th>521648</th>\n",
       "      <td>0.496109</td>\n",
       "      <td>0.057049</td>\n",
       "      <td>0.148444</td>\n",
       "      <td>0.070946</td>\n",
       "      <td>0.164305</td>\n",
       "      <td>0.032212</td>\n",
       "      <td>0.003735</td>\n",
       "      <td>0.027200</td>\n",
       "    </tr>\n",
       "    <tr>\n",
       "      <th>521649</th>\n",
       "      <td>0.475765</td>\n",
       "      <td>0.062192</td>\n",
       "      <td>0.148469</td>\n",
       "      <td>0.068986</td>\n",
       "      <td>0.178773</td>\n",
       "      <td>0.033162</td>\n",
       "      <td>0.003968</td>\n",
       "      <td>0.028684</td>\n",
       "    </tr>\n",
       "  </tbody>\n",
       "</table>\n",
       "<p>521650 rows × 8 columns</p>\n",
       "</div>"
      ],
      "text/plain": [
       "               0         1         2         3         4         5         6  \\\n",
       "0       0.420679  0.106528  0.105203  0.140793  0.048610  0.040826  0.024304   \n",
       "1       0.380415  0.127634  0.114394  0.166259  0.051931  0.040658  0.022528   \n",
       "2       0.345731  0.139896  0.132132  0.132893  0.071702  0.043902  0.025651   \n",
       "3       0.327249  0.148690  0.123191  0.171060  0.063634  0.044625  0.027395   \n",
       "4       0.322012  0.132995  0.134773  0.169080  0.072905  0.043563  0.027619   \n",
       "...          ...       ...       ...       ...       ...       ...       ...   \n",
       "521645  0.473193  0.063810  0.156504  0.065105  0.174417  0.032001  0.004448   \n",
       "521646  0.459617  0.088362  0.158046  0.072383  0.156156  0.031174  0.003943   \n",
       "521647  0.467315  0.071468  0.153453  0.071242  0.172507  0.030649  0.003869   \n",
       "521648  0.496109  0.057049  0.148444  0.070946  0.164305  0.032212  0.003735   \n",
       "521649  0.475765  0.062192  0.148469  0.068986  0.178773  0.033162  0.003968   \n",
       "\n",
       "               7  \n",
       "0       0.113056  \n",
       "1       0.096181  \n",
       "2       0.108092  \n",
       "3       0.094156  \n",
       "4       0.097053  \n",
       "...          ...  \n",
       "521645  0.030522  \n",
       "521646  0.030320  \n",
       "521647  0.029497  \n",
       "521648  0.027200  \n",
       "521649  0.028684  \n",
       "\n",
       "[521650 rows x 8 columns]"
      ]
     },
     "execution_count": 39,
     "metadata": {},
     "output_type": "execute_result"
    }
   ],
   "source": [
    "submit_meta = pd.DataFrame((submit_RF+submit_R)/2)\n",
    "submit_meta"
   ]
  },
  {
   "cell_type": "code",
   "execution_count": 40,
   "metadata": {
    "ExecuteTime": {
     "end_time": "2020-05-11T15:58:41.614373Z",
     "start_time": "2020-05-11T15:58:34.800401Z"
    }
   },
   "outputs": [],
   "source": [
    "submit_meta.to_csv(\"200511_submit_RF_R.csv\",header=False,index=True)"
   ]
  },
  {
   "cell_type": "code",
   "execution_count": null,
   "metadata": {},
   "outputs": [],
   "source": []
  }
 ],
 "metadata": {
  "kernelspec": {
   "display_name": "Python 3",
   "language": "python",
   "name": "python3"
  },
  "language_info": {
   "codemirror_mode": {
    "name": "ipython",
    "version": 3
   },
   "file_extension": ".py",
   "mimetype": "text/x-python",
   "name": "python",
   "nbconvert_exporter": "python",
   "pygments_lexer": "ipython3",
   "version": "3.7.6"
  },
  "toc": {
   "base_numbering": 1,
   "nav_menu": {},
   "number_sections": true,
   "sideBar": true,
   "skip_h1_title": false,
   "title_cell": "Table of Contents",
   "title_sidebar": "Contents",
   "toc_cell": false,
   "toc_position": {},
   "toc_section_display": true,
   "toc_window_display": false
  }
 },
 "nbformat": 4,
 "nbformat_minor": 4
}
