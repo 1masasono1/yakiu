{
 "cells": [
  {
   "cell_type": "markdown",
   "metadata": {
    "ExecuteTime": {
     "end_time": "2020-05-08T02:04:32.315749Z",
     "start_time": "2020-05-08T02:04:32.312749Z"
    }
   },
   "source": [
    "# ライブラリの読み込み"
   ]
  },
  {
   "cell_type": "code",
   "execution_count": 19,
   "metadata": {
    "ExecuteTime": {
     "end_time": "2020-05-08T08:20:46.471666Z",
     "start_time": "2020-05-08T08:20:46.454682Z"
    }
   },
   "outputs": [],
   "source": [
    "#データ加工でよく使うやつ\n",
    "import datetime  # 日付,時刻の処理\n",
    "import yaml  # yamlファイル操作\n",
    "import re  # 正規表現操作\n",
    "import shutil  # ファイル操作\n",
    "import glob  # ファイル操作\n",
    "import os  # ファイル操作\n",
    "import seaborn as sns  # グラフ描画\n",
    "import pandas as pd  # データ加工入出力,DataFlame\n",
    "import numpy as np  # 行列計算\n",
    "import scipy as sp  # 科学技術計算\n",
    "import matplotlib.pyplot as plt\n",
    "%matplotlib inline\n",
    "\n",
    "pd.set_option('display.max_columns', 200)\n",
    "pd.set_option('display.max_rows', 200)\n",
    "\n",
    "#モデリング\n",
    "from sklearn.model_selection import train_test_split # 訓練データとテストデータの分割を行うライブラリ\n",
    "from sklearn import tree\n",
    "from sklearn.ensemble import RandomForestClassifier\n",
    "from sklearn.metrics import roc_curve, auc  # 評価指標\n",
    "# KFold交差検証のライブラリ、交差検証のスコアを求めるライブラリ、および交差検証による予測に関するライブラリをimport\n",
    "from sklearn.model_selection import KFold, cross_val_score\n",
    "from sklearn.model_selection import GridSearchCV\n",
    "import lightgbm as lgb"
   ]
  },
  {
   "cell_type": "code",
   "execution_count": 56,
   "metadata": {
    "ExecuteTime": {
     "end_time": "2020-05-08T08:38:37.547814Z",
     "start_time": "2020-05-08T08:38:37.332954Z"
    }
   },
   "outputs": [],
   "source": [
    "df = pd.read_pickle('./df_merge2.pkl')"
   ]
  },
  {
   "cell_type": "code",
   "execution_count": 57,
   "metadata": {
    "ExecuteTime": {
     "end_time": "2020-05-08T08:38:38.255770Z",
     "start_time": "2020-05-08T08:38:38.223562Z"
    },
    "scrolled": true
   },
   "outputs": [],
   "source": [
    "#df['球種'] =df['球種'].astype('object')\n",
    "df['lag_pitch'] =df['lag_pitch'].astype('object')"
   ]
  },
  {
   "cell_type": "code",
   "execution_count": 58,
   "metadata": {
    "ExecuteTime": {
     "end_time": "2020-05-08T08:38:38.737133Z",
     "start_time": "2020-05-08T08:38:38.730152Z"
    }
   },
   "outputs": [
    {
     "data": {
      "text/plain": [
       "球種                   int64\n",
       "試合内投球数               int64\n",
       "日付                  object\n",
       "イニング                 int64\n",
       "表裏                  object\n",
       "打席内投球数               int64\n",
       "投手投球左右              object\n",
       "投手役割                object\n",
       "投手登板順                int64\n",
       "投手試合内対戦打者数           int64\n",
       "投手試合内投球数             int64\n",
       "投手イニング内投球数           int64\n",
       "打者打席左右              object\n",
       "打者打順                 int64\n",
       "打者守備位置              object\n",
       "打者試合内打席数             int64\n",
       "プレイ前走者状況            object\n",
       "count               object\n",
       "pitch_team_score     int64\n",
       "month                int32\n",
       "lag_pitch           object\n",
       "age                  int64\n",
       "dtype: object"
      ]
     },
     "execution_count": 58,
     "metadata": {},
     "output_type": "execute_result"
    }
   ],
   "source": [
    "df.dtypes"
   ]
  },
  {
   "cell_type": "markdown",
   "metadata": {},
   "source": [
    "# 分割データの作成\n",
    "## カテゴリ変数はダミー化\n",
    "## 目的変数は数値でよくて、分類のモデルを選べばOK"
   ]
  },
  {
   "cell_type": "code",
   "execution_count": 59,
   "metadata": {
    "ExecuteTime": {
     "end_time": "2020-05-08T08:38:44.036237Z",
     "start_time": "2020-05-08T08:38:43.656740Z"
    }
   },
   "outputs": [
    {
     "data": {
      "text/plain": [
       "球種                  int64\n",
       "試合内投球数              int64\n",
       "イニング                int64\n",
       "打席内投球数              int64\n",
       "投手登板順               int64\n",
       "投手試合内対戦打者数          int64\n",
       "投手試合内投球数            int64\n",
       "投手イニング内投球数          int64\n",
       "打者打順                int64\n",
       "打者試合内打席数            int64\n",
       "pitch_team_score    int64\n",
       "month               int32\n",
       "age                 int64\n",
       "表裏_裏                uint8\n",
       "投手投球左右_左            uint8\n",
       "投手役割_救援             uint8\n",
       "プレイ前走者状況_12_        uint8\n",
       "プレイ前走者状況_1_3        uint8\n",
       "プレイ前走者状況_1__        uint8\n",
       "プレイ前走者状況__23        uint8\n",
       "プレイ前走者状況__2_        uint8\n",
       "プレイ前走者状況___3        uint8\n",
       "プレイ前走者状況____        uint8\n",
       "打者打席左右_左            uint8\n",
       "打者守備位置_三            uint8\n",
       "打者守備位置_中            uint8\n",
       "打者守備位置_二            uint8\n",
       "打者守備位置_右            uint8\n",
       "打者守備位置_左            uint8\n",
       "打者守備位置_打            uint8\n",
       "打者守備位置_投            uint8\n",
       "打者守備位置_指            uint8\n",
       "打者守備位置_捕            uint8\n",
       "打者守備位置_無            uint8\n",
       "打者守備位置_遊            uint8\n",
       "count_0-0-1         uint8\n",
       "count_0-0-2         uint8\n",
       "count_0-1-0         uint8\n",
       "count_0-1-1         uint8\n",
       "count_0-1-2         uint8\n",
       "count_0-2-0         uint8\n",
       "count_0-2-1         uint8\n",
       "count_0-2-2         uint8\n",
       "count_0-3-0         uint8\n",
       "count_0-3-1         uint8\n",
       "count_0-3-2         uint8\n",
       "count_1-0-0         uint8\n",
       "count_1-0-1         uint8\n",
       "count_1-0-2         uint8\n",
       "count_1-1-0         uint8\n",
       "count_1-1-1         uint8\n",
       "count_1-1-2         uint8\n",
       "count_1-2-0         uint8\n",
       "count_1-2-1         uint8\n",
       "count_1-2-2         uint8\n",
       "count_1-3-0         uint8\n",
       "count_1-3-1         uint8\n",
       "count_1-3-2         uint8\n",
       "count_2-0-0         uint8\n",
       "count_2-0-1         uint8\n",
       "count_2-0-2         uint8\n",
       "count_2-1-0         uint8\n",
       "count_2-1-1         uint8\n",
       "count_2-1-2         uint8\n",
       "count_2-2-0         uint8\n",
       "count_2-2-1         uint8\n",
       "count_2-2-2         uint8\n",
       "count_2-3-0         uint8\n",
       "count_2-3-1         uint8\n",
       "count_2-3-2         uint8\n",
       "lag_pitch_1         uint8\n",
       "lag_pitch_2         uint8\n",
       "lag_pitch_3         uint8\n",
       "lag_pitch_4         uint8\n",
       "lag_pitch_5         uint8\n",
       "lag_pitch_6         uint8\n",
       "lag_pitch_7         uint8\n",
       "lag_pitch_15        uint8\n",
       "dtype: object"
      ]
     },
     "execution_count": 59,
     "metadata": {},
     "output_type": "execute_result"
    }
   ],
   "source": [
    "#category有のとき(事前にint型に変更必要)\n",
    "df2 = pd.get_dummies(df,columns=['表裏','投手投球左右','投手役割','プレイ前走者状況','打者打席左右','打者守備位置','count','lag_pitch'],drop_first=True)\n",
    "df2 =df2.drop('日付',axis=1)\n",
    "df2.dtypes"
   ]
  },
  {
   "cell_type": "code",
   "execution_count": 60,
   "metadata": {
    "ExecuteTime": {
     "end_time": "2020-05-08T08:38:49.160655Z",
     "start_time": "2020-05-08T08:38:48.940244Z"
    },
    "scrolled": true
   },
   "outputs": [],
   "source": [
    "#label比率を合わせて分割\n",
    "df_train,df_test=train_test_split(df2, test_size=0.3, random_state = 88 , stratify=df['球種']) "
   ]
  },
  {
   "cell_type": "code",
   "execution_count": 61,
   "metadata": {
    "ExecuteTime": {
     "end_time": "2020-05-08T08:38:50.900703Z",
     "start_time": "2020-05-08T08:38:50.839798Z"
    }
   },
   "outputs": [
    {
     "data": {
      "text/plain": [
       "球種                  0\n",
       "試合内投球数              0\n",
       "イニング                0\n",
       "打席内投球数              0\n",
       "投手登板順               0\n",
       "投手試合内対戦打者数          0\n",
       "投手試合内投球数            0\n",
       "投手イニング内投球数          0\n",
       "打者打順                0\n",
       "打者試合内打席数            0\n",
       "pitch_team_score    0\n",
       "month               0\n",
       "age                 0\n",
       "表裏_裏                0\n",
       "投手投球左右_左            0\n",
       "投手役割_救援             0\n",
       "プレイ前走者状況_12_        0\n",
       "プレイ前走者状況_1_3        0\n",
       "プレイ前走者状況_1__        0\n",
       "プレイ前走者状況__23        0\n",
       "プレイ前走者状況__2_        0\n",
       "プレイ前走者状況___3        0\n",
       "プレイ前走者状況____        0\n",
       "打者打席左右_左            0\n",
       "打者守備位置_三            0\n",
       "打者守備位置_中            0\n",
       "打者守備位置_二            0\n",
       "打者守備位置_右            0\n",
       "打者守備位置_左            0\n",
       "打者守備位置_打            0\n",
       "打者守備位置_投            0\n",
       "打者守備位置_指            0\n",
       "打者守備位置_捕            0\n",
       "打者守備位置_無            0\n",
       "打者守備位置_遊            0\n",
       "count_0-0-1         0\n",
       "count_0-0-2         0\n",
       "count_0-1-0         0\n",
       "count_0-1-1         0\n",
       "count_0-1-2         0\n",
       "count_0-2-0         0\n",
       "count_0-2-1         0\n",
       "count_0-2-2         0\n",
       "count_0-3-0         0\n",
       "count_0-3-1         0\n",
       "count_0-3-2         0\n",
       "count_1-0-0         0\n",
       "count_1-0-1         0\n",
       "count_1-0-2         0\n",
       "count_1-1-0         0\n",
       "count_1-1-1         0\n",
       "count_1-1-2         0\n",
       "count_1-2-0         0\n",
       "count_1-2-1         0\n",
       "count_1-2-2         0\n",
       "count_1-3-0         0\n",
       "count_1-3-1         0\n",
       "count_1-3-2         0\n",
       "count_2-0-0         0\n",
       "count_2-0-1         0\n",
       "count_2-0-2         0\n",
       "count_2-1-0         0\n",
       "count_2-1-1         0\n",
       "count_2-1-2         0\n",
       "count_2-2-0         0\n",
       "count_2-2-1         0\n",
       "count_2-2-2         0\n",
       "count_2-3-0         0\n",
       "count_2-3-1         0\n",
       "count_2-3-2         0\n",
       "lag_pitch_1         0\n",
       "lag_pitch_2         0\n",
       "lag_pitch_3         0\n",
       "lag_pitch_4         0\n",
       "lag_pitch_5         0\n",
       "lag_pitch_6         0\n",
       "lag_pitch_7         0\n",
       "lag_pitch_15        0\n",
       "dtype: int64"
      ]
     },
     "execution_count": 61,
     "metadata": {},
     "output_type": "execute_result"
    }
   ],
   "source": [
    "df_train.isnull().sum()"
   ]
  },
  {
   "cell_type": "code",
   "execution_count": 62,
   "metadata": {
    "ExecuteTime": {
     "end_time": "2020-05-08T08:38:54.462104Z",
     "start_time": "2020-05-08T08:38:54.455122Z"
    }
   },
   "outputs": [
    {
     "data": {
      "text/plain": [
       "179981"
      ]
     },
     "execution_count": 62,
     "metadata": {},
     "output_type": "execute_result"
    }
   ],
   "source": [
    "len(df_train)"
   ]
  },
  {
   "cell_type": "code",
   "execution_count": 63,
   "metadata": {
    "ExecuteTime": {
     "end_time": "2020-05-08T08:38:54.971339Z",
     "start_time": "2020-05-08T08:38:54.964355Z"
    }
   },
   "outputs": [
    {
     "data": {
      "text/plain": [
       "77136"
      ]
     },
     "execution_count": 63,
     "metadata": {},
     "output_type": "execute_result"
    }
   ],
   "source": [
    "len(df_test)"
   ]
  },
  {
   "cell_type": "code",
   "execution_count": 64,
   "metadata": {
    "ExecuteTime": {
     "end_time": "2020-05-08T08:38:57.128716Z",
     "start_time": "2020-05-08T08:38:57.076853Z"
    }
   },
   "outputs": [],
   "source": [
    "df_train_y = pd.DataFrame(df_train.loc[:,'球種'])\n",
    "df_train_x = pd.DataFrame(df_train.drop('球種',axis=1))\n",
    "df_test_y = pd.DataFrame(df_test.loc[:,'球種'])\n",
    "df_test_x = pd.DataFrame(df_test.drop('球種',axis=1))"
   ]
  },
  {
   "cell_type": "markdown",
   "metadata": {},
   "source": [
    "# Modeling\n",
    "## randomforest"
   ]
  },
  {
   "cell_type": "code",
   "execution_count": 65,
   "metadata": {
    "ExecuteTime": {
     "end_time": "2020-05-08T08:38:59.004630Z",
     "start_time": "2020-05-08T08:38:58.999844Z"
    }
   },
   "outputs": [],
   "source": [
    "from sklearn.ensemble import RandomForestClassifier as RFC \n",
    "from sklearn.model_selection import train_test_split, GridSearchCV"
   ]
  },
  {
   "cell_type": "code",
   "execution_count": 66,
   "metadata": {
    "ExecuteTime": {
     "end_time": "2020-05-08T08:39:36.028380Z",
     "start_time": "2020-05-08T08:39:02.083897Z"
    },
    "scrolled": false
   },
   "outputs": [
    {
     "name": "stderr",
     "output_type": "stream",
     "text": [
      "C:\\Users\\e11541\\Anaconda3\\lib\\site-packages\\ipykernel_launcher.py:4: DataConversionWarning: A column-vector y was passed when a 1d array was expected. Please change the shape of y to (n_samples,), for example using ravel().\n",
      "  after removing the cwd from sys.path.\n",
      "[Parallel(n_jobs=-1)]: Using backend ThreadingBackend with 4 concurrent workers.\n",
      "[Parallel(n_jobs=-1)]: Done  42 tasks      | elapsed:   13.6s\n",
      "[Parallel(n_jobs=-1)]: Done 100 out of 100 | elapsed:   33.5s finished\n"
     ]
    },
    {
     "data": {
      "text/plain": [
       "RandomForestClassifier(bootstrap=True, ccp_alpha=0.0, class_weight=None,\n",
       "                       criterion='gini', max_depth=None, max_features='auto',\n",
       "                       max_leaf_nodes=None, max_samples=None,\n",
       "                       min_impurity_decrease=0.0, min_impurity_split=None,\n",
       "                       min_samples_leaf=1, min_samples_split=2,\n",
       "                       min_weight_fraction_leaf=0.0, n_estimators=100,\n",
       "                       n_jobs=-1, oob_score=False, random_state=88,\n",
       "                       verbose=True, warm_start=False)"
      ]
     },
     "execution_count": 66,
     "metadata": {},
     "output_type": "execute_result"
    }
   ],
   "source": [
    "clf = RFC(verbose=True,       # 学習中にログを表示します。この指定はなくてもOK\n",
    "          n_jobs=-1,          # 複数のCPUコアを使って並列に学習します。-1は最大値。\n",
    "          random_state=88)  # 乱数のシードです。\n",
    "clf.fit(df_train_x, df_train_y)"
   ]
  },
  {
   "cell_type": "code",
   "execution_count": 71,
   "metadata": {
    "ExecuteTime": {
     "end_time": "2020-05-08T08:45:01.422649Z",
     "start_time": "2020-05-08T08:44:55.382431Z"
    }
   },
   "outputs": [
    {
     "name": "stderr",
     "output_type": "stream",
     "text": [
      "[Parallel(n_jobs=4)]: Using backend ThreadingBackend with 4 concurrent workers.\n",
      "[Parallel(n_jobs=4)]: Done  42 tasks      | elapsed:    3.0s\n",
      "[Parallel(n_jobs=4)]: Done 100 out of 100 | elapsed:    5.7s finished\n"
     ]
    }
   ],
   "source": [
    "predict_train_label = clf.predict_proba(df_train_x)"
   ]
  },
  {
   "cell_type": "code",
   "execution_count": 91,
   "metadata": {
    "ExecuteTime": {
     "end_time": "2020-05-08T09:05:54.406043Z",
     "start_time": "2020-05-08T09:05:54.384101Z"
    },
    "scrolled": false
   },
   "outputs": [
    {
     "data": {
      "text/html": [
       "<div>\n",
       "<style scoped>\n",
       "    .dataframe tbody tr th:only-of-type {\n",
       "        vertical-align: middle;\n",
       "    }\n",
       "\n",
       "    .dataframe tbody tr th {\n",
       "        vertical-align: top;\n",
       "    }\n",
       "\n",
       "    .dataframe thead th {\n",
       "        text-align: right;\n",
       "    }\n",
       "</style>\n",
       "<table border=\"1\" class=\"dataframe\">\n",
       "  <thead>\n",
       "    <tr style=\"text-align: right;\">\n",
       "      <th></th>\n",
       "      <th>0</th>\n",
       "      <th>1</th>\n",
       "      <th>2</th>\n",
       "      <th>3</th>\n",
       "      <th>4</th>\n",
       "      <th>5</th>\n",
       "      <th>6</th>\n",
       "      <th>7</th>\n",
       "    </tr>\n",
       "  </thead>\n",
       "  <tbody>\n",
       "    <tr>\n",
       "      <th>0</th>\n",
       "      <td>0.16</td>\n",
       "      <td>0.03</td>\n",
       "      <td>0.73</td>\n",
       "      <td>0.02</td>\n",
       "      <td>0.04</td>\n",
       "      <td>0.00</td>\n",
       "      <td>0.00</td>\n",
       "      <td>0.02</td>\n",
       "    </tr>\n",
       "    <tr>\n",
       "      <th>1</th>\n",
       "      <td>0.82</td>\n",
       "      <td>0.03</td>\n",
       "      <td>0.10</td>\n",
       "      <td>0.01</td>\n",
       "      <td>0.01</td>\n",
       "      <td>0.02</td>\n",
       "      <td>0.00</td>\n",
       "      <td>0.01</td>\n",
       "    </tr>\n",
       "    <tr>\n",
       "      <th>2</th>\n",
       "      <td>0.77</td>\n",
       "      <td>0.01</td>\n",
       "      <td>0.20</td>\n",
       "      <td>0.00</td>\n",
       "      <td>0.01</td>\n",
       "      <td>0.01</td>\n",
       "      <td>0.00</td>\n",
       "      <td>0.00</td>\n",
       "    </tr>\n",
       "    <tr>\n",
       "      <th>3</th>\n",
       "      <td>0.86</td>\n",
       "      <td>0.03</td>\n",
       "      <td>0.04</td>\n",
       "      <td>0.00</td>\n",
       "      <td>0.03</td>\n",
       "      <td>0.01</td>\n",
       "      <td>0.01</td>\n",
       "      <td>0.02</td>\n",
       "    </tr>\n",
       "    <tr>\n",
       "      <th>4</th>\n",
       "      <td>0.76</td>\n",
       "      <td>0.02</td>\n",
       "      <td>0.13</td>\n",
       "      <td>0.00</td>\n",
       "      <td>0.04</td>\n",
       "      <td>0.03</td>\n",
       "      <td>0.00</td>\n",
       "      <td>0.02</td>\n",
       "    </tr>\n",
       "    <tr>\n",
       "      <th>...</th>\n",
       "      <td>...</td>\n",
       "      <td>...</td>\n",
       "      <td>...</td>\n",
       "      <td>...</td>\n",
       "      <td>...</td>\n",
       "      <td>...</td>\n",
       "      <td>...</td>\n",
       "      <td>...</td>\n",
       "    </tr>\n",
       "    <tr>\n",
       "      <th>179976</th>\n",
       "      <td>0.21</td>\n",
       "      <td>0.03</td>\n",
       "      <td>0.01</td>\n",
       "      <td>0.00</td>\n",
       "      <td>0.74</td>\n",
       "      <td>0.01</td>\n",
       "      <td>0.00</td>\n",
       "      <td>0.00</td>\n",
       "    </tr>\n",
       "    <tr>\n",
       "      <th>179977</th>\n",
       "      <td>0.86</td>\n",
       "      <td>0.01</td>\n",
       "      <td>0.07</td>\n",
       "      <td>0.01</td>\n",
       "      <td>0.02</td>\n",
       "      <td>0.01</td>\n",
       "      <td>0.00</td>\n",
       "      <td>0.02</td>\n",
       "    </tr>\n",
       "    <tr>\n",
       "      <th>179978</th>\n",
       "      <td>0.09</td>\n",
       "      <td>0.06</td>\n",
       "      <td>0.02</td>\n",
       "      <td>0.79</td>\n",
       "      <td>0.02</td>\n",
       "      <td>0.00</td>\n",
       "      <td>0.01</td>\n",
       "      <td>0.01</td>\n",
       "    </tr>\n",
       "    <tr>\n",
       "      <th>179979</th>\n",
       "      <td>0.79</td>\n",
       "      <td>0.01</td>\n",
       "      <td>0.09</td>\n",
       "      <td>0.03</td>\n",
       "      <td>0.00</td>\n",
       "      <td>0.05</td>\n",
       "      <td>0.02</td>\n",
       "      <td>0.01</td>\n",
       "    </tr>\n",
       "    <tr>\n",
       "      <th>179980</th>\n",
       "      <td>0.22</td>\n",
       "      <td>0.02</td>\n",
       "      <td>0.65</td>\n",
       "      <td>0.01</td>\n",
       "      <td>0.06</td>\n",
       "      <td>0.02</td>\n",
       "      <td>0.00</td>\n",
       "      <td>0.02</td>\n",
       "    </tr>\n",
       "  </tbody>\n",
       "</table>\n",
       "<p>179981 rows × 8 columns</p>\n",
       "</div>"
      ],
      "text/plain": [
       "           0     1     2     3     4     5     6     7\n",
       "0       0.16  0.03  0.73  0.02  0.04  0.00  0.00  0.02\n",
       "1       0.82  0.03  0.10  0.01  0.01  0.02  0.00  0.01\n",
       "2       0.77  0.01  0.20  0.00  0.01  0.01  0.00  0.00\n",
       "3       0.86  0.03  0.04  0.00  0.03  0.01  0.01  0.02\n",
       "4       0.76  0.02  0.13  0.00  0.04  0.03  0.00  0.02\n",
       "...      ...   ...   ...   ...   ...   ...   ...   ...\n",
       "179976  0.21  0.03  0.01  0.00  0.74  0.01  0.00  0.00\n",
       "179977  0.86  0.01  0.07  0.01  0.02  0.01  0.00  0.02\n",
       "179978  0.09  0.06  0.02  0.79  0.02  0.00  0.01  0.01\n",
       "179979  0.79  0.01  0.09  0.03  0.00  0.05  0.02  0.01\n",
       "179980  0.22  0.02  0.65  0.01  0.06  0.02  0.00  0.02\n",
       "\n",
       "[179981 rows x 8 columns]"
      ]
     },
     "execution_count": 91,
     "metadata": {},
     "output_type": "execute_result"
    }
   ],
   "source": [
    "predict_train_label = pd.DataFrame(predict_train_label)\n",
    "predict_train_label"
   ]
  },
  {
   "cell_type": "code",
   "execution_count": 92,
   "metadata": {
    "ExecuteTime": {
     "end_time": "2020-05-08T09:06:05.740601Z",
     "start_time": "2020-05-08T09:06:05.721097Z"
    }
   },
   "outputs": [
    {
     "data": {
      "text/html": [
       "<div>\n",
       "<style scoped>\n",
       "    .dataframe tbody tr th:only-of-type {\n",
       "        vertical-align: middle;\n",
       "    }\n",
       "\n",
       "    .dataframe tbody tr th {\n",
       "        vertical-align: top;\n",
       "    }\n",
       "\n",
       "    .dataframe thead th {\n",
       "        text-align: right;\n",
       "    }\n",
       "</style>\n",
       "<table border=\"1\" class=\"dataframe\">\n",
       "  <thead>\n",
       "    <tr style=\"text-align: right;\">\n",
       "      <th></th>\n",
       "      <th>球種</th>\n",
       "    </tr>\n",
       "  </thead>\n",
       "  <tbody>\n",
       "    <tr>\n",
       "      <th>0</th>\n",
       "      <td>2</td>\n",
       "    </tr>\n",
       "    <tr>\n",
       "      <th>1</th>\n",
       "      <td>0</td>\n",
       "    </tr>\n",
       "    <tr>\n",
       "      <th>2</th>\n",
       "      <td>0</td>\n",
       "    </tr>\n",
       "    <tr>\n",
       "      <th>3</th>\n",
       "      <td>0</td>\n",
       "    </tr>\n",
       "    <tr>\n",
       "      <th>4</th>\n",
       "      <td>0</td>\n",
       "    </tr>\n",
       "    <tr>\n",
       "      <th>...</th>\n",
       "      <td>...</td>\n",
       "    </tr>\n",
       "    <tr>\n",
       "      <th>179976</th>\n",
       "      <td>4</td>\n",
       "    </tr>\n",
       "    <tr>\n",
       "      <th>179977</th>\n",
       "      <td>0</td>\n",
       "    </tr>\n",
       "    <tr>\n",
       "      <th>179978</th>\n",
       "      <td>3</td>\n",
       "    </tr>\n",
       "    <tr>\n",
       "      <th>179979</th>\n",
       "      <td>0</td>\n",
       "    </tr>\n",
       "    <tr>\n",
       "      <th>179980</th>\n",
       "      <td>2</td>\n",
       "    </tr>\n",
       "  </tbody>\n",
       "</table>\n",
       "<p>179981 rows × 1 columns</p>\n",
       "</div>"
      ],
      "text/plain": [
       "        球種\n",
       "0        2\n",
       "1        0\n",
       "2        0\n",
       "3        0\n",
       "4        0\n",
       "...     ..\n",
       "179976   4\n",
       "179977   0\n",
       "179978   3\n",
       "179979   0\n",
       "179980   2\n",
       "\n",
       "[179981 rows x 1 columns]"
      ]
     },
     "execution_count": 92,
     "metadata": {},
     "output_type": "execute_result"
    }
   ],
   "source": [
    "a"
   ]
  },
  {
   "cell_type": "code",
   "execution_count": 93,
   "metadata": {
    "ExecuteTime": {
     "end_time": "2020-05-08T09:06:31.879405Z",
     "start_time": "2020-05-08T09:06:31.859454Z"
    }
   },
   "outputs": [],
   "source": [
    "a = pd.DataFrame(df_train_y)\n",
    "a=a.reset_index(drop=True)\n",
    "predict_train_label2 = pd.concat([a,predict_train_label],axis=1)"
   ]
  },
  {
   "cell_type": "code",
   "execution_count": 94,
   "metadata": {
    "ExecuteTime": {
     "end_time": "2020-05-08T09:06:32.854823Z",
     "start_time": "2020-05-08T09:06:32.832850Z"
    }
   },
   "outputs": [
    {
     "data": {
      "text/html": [
       "<div>\n",
       "<style scoped>\n",
       "    .dataframe tbody tr th:only-of-type {\n",
       "        vertical-align: middle;\n",
       "    }\n",
       "\n",
       "    .dataframe tbody tr th {\n",
       "        vertical-align: top;\n",
       "    }\n",
       "\n",
       "    .dataframe thead th {\n",
       "        text-align: right;\n",
       "    }\n",
       "</style>\n",
       "<table border=\"1\" class=\"dataframe\">\n",
       "  <thead>\n",
       "    <tr style=\"text-align: right;\">\n",
       "      <th></th>\n",
       "      <th>球種</th>\n",
       "      <th>0</th>\n",
       "      <th>1</th>\n",
       "      <th>2</th>\n",
       "      <th>3</th>\n",
       "      <th>4</th>\n",
       "      <th>5</th>\n",
       "      <th>6</th>\n",
       "      <th>7</th>\n",
       "    </tr>\n",
       "  </thead>\n",
       "  <tbody>\n",
       "    <tr>\n",
       "      <th>0</th>\n",
       "      <td>2</td>\n",
       "      <td>0.16</td>\n",
       "      <td>0.03</td>\n",
       "      <td>0.73</td>\n",
       "      <td>0.02</td>\n",
       "      <td>0.04</td>\n",
       "      <td>0.00</td>\n",
       "      <td>0.00</td>\n",
       "      <td>0.02</td>\n",
       "    </tr>\n",
       "    <tr>\n",
       "      <th>1</th>\n",
       "      <td>0</td>\n",
       "      <td>0.82</td>\n",
       "      <td>0.03</td>\n",
       "      <td>0.10</td>\n",
       "      <td>0.01</td>\n",
       "      <td>0.01</td>\n",
       "      <td>0.02</td>\n",
       "      <td>0.00</td>\n",
       "      <td>0.01</td>\n",
       "    </tr>\n",
       "    <tr>\n",
       "      <th>2</th>\n",
       "      <td>0</td>\n",
       "      <td>0.77</td>\n",
       "      <td>0.01</td>\n",
       "      <td>0.20</td>\n",
       "      <td>0.00</td>\n",
       "      <td>0.01</td>\n",
       "      <td>0.01</td>\n",
       "      <td>0.00</td>\n",
       "      <td>0.00</td>\n",
       "    </tr>\n",
       "    <tr>\n",
       "      <th>3</th>\n",
       "      <td>0</td>\n",
       "      <td>0.86</td>\n",
       "      <td>0.03</td>\n",
       "      <td>0.04</td>\n",
       "      <td>0.00</td>\n",
       "      <td>0.03</td>\n",
       "      <td>0.01</td>\n",
       "      <td>0.01</td>\n",
       "      <td>0.02</td>\n",
       "    </tr>\n",
       "    <tr>\n",
       "      <th>4</th>\n",
       "      <td>0</td>\n",
       "      <td>0.76</td>\n",
       "      <td>0.02</td>\n",
       "      <td>0.13</td>\n",
       "      <td>0.00</td>\n",
       "      <td>0.04</td>\n",
       "      <td>0.03</td>\n",
       "      <td>0.00</td>\n",
       "      <td>0.02</td>\n",
       "    </tr>\n",
       "    <tr>\n",
       "      <th>...</th>\n",
       "      <td>...</td>\n",
       "      <td>...</td>\n",
       "      <td>...</td>\n",
       "      <td>...</td>\n",
       "      <td>...</td>\n",
       "      <td>...</td>\n",
       "      <td>...</td>\n",
       "      <td>...</td>\n",
       "      <td>...</td>\n",
       "    </tr>\n",
       "    <tr>\n",
       "      <th>179976</th>\n",
       "      <td>4</td>\n",
       "      <td>0.21</td>\n",
       "      <td>0.03</td>\n",
       "      <td>0.01</td>\n",
       "      <td>0.00</td>\n",
       "      <td>0.74</td>\n",
       "      <td>0.01</td>\n",
       "      <td>0.00</td>\n",
       "      <td>0.00</td>\n",
       "    </tr>\n",
       "    <tr>\n",
       "      <th>179977</th>\n",
       "      <td>0</td>\n",
       "      <td>0.86</td>\n",
       "      <td>0.01</td>\n",
       "      <td>0.07</td>\n",
       "      <td>0.01</td>\n",
       "      <td>0.02</td>\n",
       "      <td>0.01</td>\n",
       "      <td>0.00</td>\n",
       "      <td>0.02</td>\n",
       "    </tr>\n",
       "    <tr>\n",
       "      <th>179978</th>\n",
       "      <td>3</td>\n",
       "      <td>0.09</td>\n",
       "      <td>0.06</td>\n",
       "      <td>0.02</td>\n",
       "      <td>0.79</td>\n",
       "      <td>0.02</td>\n",
       "      <td>0.00</td>\n",
       "      <td>0.01</td>\n",
       "      <td>0.01</td>\n",
       "    </tr>\n",
       "    <tr>\n",
       "      <th>179979</th>\n",
       "      <td>0</td>\n",
       "      <td>0.79</td>\n",
       "      <td>0.01</td>\n",
       "      <td>0.09</td>\n",
       "      <td>0.03</td>\n",
       "      <td>0.00</td>\n",
       "      <td>0.05</td>\n",
       "      <td>0.02</td>\n",
       "      <td>0.01</td>\n",
       "    </tr>\n",
       "    <tr>\n",
       "      <th>179980</th>\n",
       "      <td>2</td>\n",
       "      <td>0.22</td>\n",
       "      <td>0.02</td>\n",
       "      <td>0.65</td>\n",
       "      <td>0.01</td>\n",
       "      <td>0.06</td>\n",
       "      <td>0.02</td>\n",
       "      <td>0.00</td>\n",
       "      <td>0.02</td>\n",
       "    </tr>\n",
       "  </tbody>\n",
       "</table>\n",
       "<p>179981 rows × 9 columns</p>\n",
       "</div>"
      ],
      "text/plain": [
       "        球種     0     1     2     3     4     5     6     7\n",
       "0        2  0.16  0.03  0.73  0.02  0.04  0.00  0.00  0.02\n",
       "1        0  0.82  0.03  0.10  0.01  0.01  0.02  0.00  0.01\n",
       "2        0  0.77  0.01  0.20  0.00  0.01  0.01  0.00  0.00\n",
       "3        0  0.86  0.03  0.04  0.00  0.03  0.01  0.01  0.02\n",
       "4        0  0.76  0.02  0.13  0.00  0.04  0.03  0.00  0.02\n",
       "...     ..   ...   ...   ...   ...   ...   ...   ...   ...\n",
       "179976   4  0.21  0.03  0.01  0.00  0.74  0.01  0.00  0.00\n",
       "179977   0  0.86  0.01  0.07  0.01  0.02  0.01  0.00  0.02\n",
       "179978   3  0.09  0.06  0.02  0.79  0.02  0.00  0.01  0.01\n",
       "179979   0  0.79  0.01  0.09  0.03  0.00  0.05  0.02  0.01\n",
       "179980   2  0.22  0.02  0.65  0.01  0.06  0.02  0.00  0.02\n",
       "\n",
       "[179981 rows x 9 columns]"
      ]
     },
     "execution_count": 94,
     "metadata": {},
     "output_type": "execute_result"
    }
   ],
   "source": [
    "predict_train_label2"
   ]
  },
  {
   "cell_type": "code",
   "execution_count": 96,
   "metadata": {
    "ExecuteTime": {
     "end_time": "2020-05-08T09:07:51.753985Z",
     "start_time": "2020-05-08T09:07:50.244022Z"
    }
   },
   "outputs": [],
   "source": [
    "predict_train_label2.to_csv(\"predict_train_label.csv\")"
   ]
  },
  {
   "cell_type": "code",
   "execution_count": null,
   "metadata": {},
   "outputs": [],
   "source": []
  },
  {
   "cell_type": "code",
   "execution_count": null,
   "metadata": {},
   "outputs": [],
   "source": []
  },
  {
   "cell_type": "code",
   "execution_count": 97,
   "metadata": {
    "ExecuteTime": {
     "end_time": "2020-05-08T09:09:37.498260Z",
     "start_time": "2020-05-08T09:09:30.267508Z"
    }
   },
   "outputs": [
    {
     "name": "stderr",
     "output_type": "stream",
     "text": [
      "[Parallel(n_jobs=4)]: Using backend ThreadingBackend with 4 concurrent workers.\n",
      "[Parallel(n_jobs=4)]: Done  42 tasks      | elapsed:    1.6s\n",
      "[Parallel(n_jobs=4)]: Done 100 out of 100 | elapsed:    7.0s finished\n"
     ]
    }
   ],
   "source": [
    "predict_test_label = clf.predict_proba(df_test_x)"
   ]
  },
  {
   "cell_type": "code",
   "execution_count": 98,
   "metadata": {
    "ExecuteTime": {
     "end_time": "2020-05-08T09:09:43.381313Z",
     "start_time": "2020-05-08T09:09:43.318478Z"
    },
    "scrolled": false
   },
   "outputs": [
    {
     "data": {
      "text/html": [
       "<div>\n",
       "<style scoped>\n",
       "    .dataframe tbody tr th:only-of-type {\n",
       "        vertical-align: middle;\n",
       "    }\n",
       "\n",
       "    .dataframe tbody tr th {\n",
       "        vertical-align: top;\n",
       "    }\n",
       "\n",
       "    .dataframe thead th {\n",
       "        text-align: right;\n",
       "    }\n",
       "</style>\n",
       "<table border=\"1\" class=\"dataframe\">\n",
       "  <thead>\n",
       "    <tr style=\"text-align: right;\">\n",
       "      <th></th>\n",
       "      <th>0</th>\n",
       "      <th>1</th>\n",
       "      <th>2</th>\n",
       "      <th>3</th>\n",
       "      <th>4</th>\n",
       "      <th>5</th>\n",
       "      <th>6</th>\n",
       "      <th>7</th>\n",
       "    </tr>\n",
       "  </thead>\n",
       "  <tbody>\n",
       "    <tr>\n",
       "      <th>0</th>\n",
       "      <td>0.50</td>\n",
       "      <td>0.10</td>\n",
       "      <td>0.26</td>\n",
       "      <td>0.03</td>\n",
       "      <td>0.02</td>\n",
       "      <td>0.06</td>\n",
       "      <td>0.00</td>\n",
       "      <td>0.03</td>\n",
       "    </tr>\n",
       "    <tr>\n",
       "      <th>1</th>\n",
       "      <td>0.26</td>\n",
       "      <td>0.16</td>\n",
       "      <td>0.16</td>\n",
       "      <td>0.21</td>\n",
       "      <td>0.06</td>\n",
       "      <td>0.06</td>\n",
       "      <td>0.03</td>\n",
       "      <td>0.06</td>\n",
       "    </tr>\n",
       "    <tr>\n",
       "      <th>2</th>\n",
       "      <td>0.34</td>\n",
       "      <td>0.02</td>\n",
       "      <td>0.38</td>\n",
       "      <td>0.07</td>\n",
       "      <td>0.19</td>\n",
       "      <td>0.00</td>\n",
       "      <td>0.00</td>\n",
       "      <td>0.00</td>\n",
       "    </tr>\n",
       "    <tr>\n",
       "      <th>3</th>\n",
       "      <td>0.21</td>\n",
       "      <td>0.07</td>\n",
       "      <td>0.46</td>\n",
       "      <td>0.08</td>\n",
       "      <td>0.10</td>\n",
       "      <td>0.04</td>\n",
       "      <td>0.01</td>\n",
       "      <td>0.03</td>\n",
       "    </tr>\n",
       "    <tr>\n",
       "      <th>4</th>\n",
       "      <td>0.61</td>\n",
       "      <td>0.00</td>\n",
       "      <td>0.20</td>\n",
       "      <td>0.08</td>\n",
       "      <td>0.06</td>\n",
       "      <td>0.00</td>\n",
       "      <td>0.00</td>\n",
       "      <td>0.05</td>\n",
       "    </tr>\n",
       "    <tr>\n",
       "      <th>...</th>\n",
       "      <td>...</td>\n",
       "      <td>...</td>\n",
       "      <td>...</td>\n",
       "      <td>...</td>\n",
       "      <td>...</td>\n",
       "      <td>...</td>\n",
       "      <td>...</td>\n",
       "      <td>...</td>\n",
       "    </tr>\n",
       "    <tr>\n",
       "      <th>77131</th>\n",
       "      <td>0.81</td>\n",
       "      <td>0.02</td>\n",
       "      <td>0.11</td>\n",
       "      <td>0.03</td>\n",
       "      <td>0.00</td>\n",
       "      <td>0.00</td>\n",
       "      <td>0.00</td>\n",
       "      <td>0.03</td>\n",
       "    </tr>\n",
       "    <tr>\n",
       "      <th>77132</th>\n",
       "      <td>0.42</td>\n",
       "      <td>0.04</td>\n",
       "      <td>0.26</td>\n",
       "      <td>0.08</td>\n",
       "      <td>0.05</td>\n",
       "      <td>0.05</td>\n",
       "      <td>0.03</td>\n",
       "      <td>0.07</td>\n",
       "    </tr>\n",
       "    <tr>\n",
       "      <th>77133</th>\n",
       "      <td>0.50</td>\n",
       "      <td>0.00</td>\n",
       "      <td>0.26</td>\n",
       "      <td>0.03</td>\n",
       "      <td>0.17</td>\n",
       "      <td>0.02</td>\n",
       "      <td>0.00</td>\n",
       "      <td>0.02</td>\n",
       "    </tr>\n",
       "    <tr>\n",
       "      <th>77134</th>\n",
       "      <td>0.36</td>\n",
       "      <td>0.19</td>\n",
       "      <td>0.11</td>\n",
       "      <td>0.06</td>\n",
       "      <td>0.02</td>\n",
       "      <td>0.05</td>\n",
       "      <td>0.03</td>\n",
       "      <td>0.18</td>\n",
       "    </tr>\n",
       "    <tr>\n",
       "      <th>77135</th>\n",
       "      <td>0.46</td>\n",
       "      <td>0.24</td>\n",
       "      <td>0.04</td>\n",
       "      <td>0.03</td>\n",
       "      <td>0.18</td>\n",
       "      <td>0.02</td>\n",
       "      <td>0.00</td>\n",
       "      <td>0.03</td>\n",
       "    </tr>\n",
       "  </tbody>\n",
       "</table>\n",
       "<p>77136 rows × 8 columns</p>\n",
       "</div>"
      ],
      "text/plain": [
       "          0     1     2     3     4     5     6     7\n",
       "0      0.50  0.10  0.26  0.03  0.02  0.06  0.00  0.03\n",
       "1      0.26  0.16  0.16  0.21  0.06  0.06  0.03  0.06\n",
       "2      0.34  0.02  0.38  0.07  0.19  0.00  0.00  0.00\n",
       "3      0.21  0.07  0.46  0.08  0.10  0.04  0.01  0.03\n",
       "4      0.61  0.00  0.20  0.08  0.06  0.00  0.00  0.05\n",
       "...     ...   ...   ...   ...   ...   ...   ...   ...\n",
       "77131  0.81  0.02  0.11  0.03  0.00  0.00  0.00  0.03\n",
       "77132  0.42  0.04  0.26  0.08  0.05  0.05  0.03  0.07\n",
       "77133  0.50  0.00  0.26  0.03  0.17  0.02  0.00  0.02\n",
       "77134  0.36  0.19  0.11  0.06  0.02  0.05  0.03  0.18\n",
       "77135  0.46  0.24  0.04  0.03  0.18  0.02  0.00  0.03\n",
       "\n",
       "[77136 rows x 8 columns]"
      ]
     },
     "execution_count": 98,
     "metadata": {},
     "output_type": "execute_result"
    }
   ],
   "source": [
    "predict_test_label = pd.DataFrame(predict_test_label)\n",
    "predict_test_label"
   ]
  },
  {
   "cell_type": "code",
   "execution_count": 100,
   "metadata": {
    "ExecuteTime": {
     "end_time": "2020-05-08T09:10:29.038453Z",
     "start_time": "2020-05-08T09:10:29.026485Z"
    }
   },
   "outputs": [],
   "source": [
    "a = pd.DataFrame(df_test_y)\n",
    "a=a.reset_index(drop=True)\n",
    "predict_test_label2 = pd.concat([a,predict_test_label],axis=1)"
   ]
  },
  {
   "cell_type": "code",
   "execution_count": 101,
   "metadata": {
    "ExecuteTime": {
     "end_time": "2020-05-08T09:10:34.577300Z",
     "start_time": "2020-05-08T09:10:34.551370Z"
    }
   },
   "outputs": [
    {
     "data": {
      "text/html": [
       "<div>\n",
       "<style scoped>\n",
       "    .dataframe tbody tr th:only-of-type {\n",
       "        vertical-align: middle;\n",
       "    }\n",
       "\n",
       "    .dataframe tbody tr th {\n",
       "        vertical-align: top;\n",
       "    }\n",
       "\n",
       "    .dataframe thead th {\n",
       "        text-align: right;\n",
       "    }\n",
       "</style>\n",
       "<table border=\"1\" class=\"dataframe\">\n",
       "  <thead>\n",
       "    <tr style=\"text-align: right;\">\n",
       "      <th></th>\n",
       "      <th>球種</th>\n",
       "      <th>0</th>\n",
       "      <th>1</th>\n",
       "      <th>2</th>\n",
       "      <th>3</th>\n",
       "      <th>4</th>\n",
       "      <th>5</th>\n",
       "      <th>6</th>\n",
       "      <th>7</th>\n",
       "    </tr>\n",
       "  </thead>\n",
       "  <tbody>\n",
       "    <tr>\n",
       "      <th>0</th>\n",
       "      <td>2</td>\n",
       "      <td>0.50</td>\n",
       "      <td>0.10</td>\n",
       "      <td>0.26</td>\n",
       "      <td>0.03</td>\n",
       "      <td>0.02</td>\n",
       "      <td>0.06</td>\n",
       "      <td>0.00</td>\n",
       "      <td>0.03</td>\n",
       "    </tr>\n",
       "    <tr>\n",
       "      <th>1</th>\n",
       "      <td>6</td>\n",
       "      <td>0.26</td>\n",
       "      <td>0.16</td>\n",
       "      <td>0.16</td>\n",
       "      <td>0.21</td>\n",
       "      <td>0.06</td>\n",
       "      <td>0.06</td>\n",
       "      <td>0.03</td>\n",
       "      <td>0.06</td>\n",
       "    </tr>\n",
       "    <tr>\n",
       "      <th>2</th>\n",
       "      <td>0</td>\n",
       "      <td>0.34</td>\n",
       "      <td>0.02</td>\n",
       "      <td>0.38</td>\n",
       "      <td>0.07</td>\n",
       "      <td>0.19</td>\n",
       "      <td>0.00</td>\n",
       "      <td>0.00</td>\n",
       "      <td>0.00</td>\n",
       "    </tr>\n",
       "    <tr>\n",
       "      <th>3</th>\n",
       "      <td>3</td>\n",
       "      <td>0.21</td>\n",
       "      <td>0.07</td>\n",
       "      <td>0.46</td>\n",
       "      <td>0.08</td>\n",
       "      <td>0.10</td>\n",
       "      <td>0.04</td>\n",
       "      <td>0.01</td>\n",
       "      <td>0.03</td>\n",
       "    </tr>\n",
       "    <tr>\n",
       "      <th>4</th>\n",
       "      <td>2</td>\n",
       "      <td>0.61</td>\n",
       "      <td>0.00</td>\n",
       "      <td>0.20</td>\n",
       "      <td>0.08</td>\n",
       "      <td>0.06</td>\n",
       "      <td>0.00</td>\n",
       "      <td>0.00</td>\n",
       "      <td>0.05</td>\n",
       "    </tr>\n",
       "    <tr>\n",
       "      <th>...</th>\n",
       "      <td>...</td>\n",
       "      <td>...</td>\n",
       "      <td>...</td>\n",
       "      <td>...</td>\n",
       "      <td>...</td>\n",
       "      <td>...</td>\n",
       "      <td>...</td>\n",
       "      <td>...</td>\n",
       "      <td>...</td>\n",
       "    </tr>\n",
       "    <tr>\n",
       "      <th>77131</th>\n",
       "      <td>0</td>\n",
       "      <td>0.81</td>\n",
       "      <td>0.02</td>\n",
       "      <td>0.11</td>\n",
       "      <td>0.03</td>\n",
       "      <td>0.00</td>\n",
       "      <td>0.00</td>\n",
       "      <td>0.00</td>\n",
       "      <td>0.03</td>\n",
       "    </tr>\n",
       "    <tr>\n",
       "      <th>77132</th>\n",
       "      <td>7</td>\n",
       "      <td>0.42</td>\n",
       "      <td>0.04</td>\n",
       "      <td>0.26</td>\n",
       "      <td>0.08</td>\n",
       "      <td>0.05</td>\n",
       "      <td>0.05</td>\n",
       "      <td>0.03</td>\n",
       "      <td>0.07</td>\n",
       "    </tr>\n",
       "    <tr>\n",
       "      <th>77133</th>\n",
       "      <td>0</td>\n",
       "      <td>0.50</td>\n",
       "      <td>0.00</td>\n",
       "      <td>0.26</td>\n",
       "      <td>0.03</td>\n",
       "      <td>0.17</td>\n",
       "      <td>0.02</td>\n",
       "      <td>0.00</td>\n",
       "      <td>0.02</td>\n",
       "    </tr>\n",
       "    <tr>\n",
       "      <th>77134</th>\n",
       "      <td>4</td>\n",
       "      <td>0.36</td>\n",
       "      <td>0.19</td>\n",
       "      <td>0.11</td>\n",
       "      <td>0.06</td>\n",
       "      <td>0.02</td>\n",
       "      <td>0.05</td>\n",
       "      <td>0.03</td>\n",
       "      <td>0.18</td>\n",
       "    </tr>\n",
       "    <tr>\n",
       "      <th>77135</th>\n",
       "      <td>0</td>\n",
       "      <td>0.46</td>\n",
       "      <td>0.24</td>\n",
       "      <td>0.04</td>\n",
       "      <td>0.03</td>\n",
       "      <td>0.18</td>\n",
       "      <td>0.02</td>\n",
       "      <td>0.00</td>\n",
       "      <td>0.03</td>\n",
       "    </tr>\n",
       "  </tbody>\n",
       "</table>\n",
       "<p>77136 rows × 9 columns</p>\n",
       "</div>"
      ],
      "text/plain": [
       "       球種     0     1     2     3     4     5     6     7\n",
       "0       2  0.50  0.10  0.26  0.03  0.02  0.06  0.00  0.03\n",
       "1       6  0.26  0.16  0.16  0.21  0.06  0.06  0.03  0.06\n",
       "2       0  0.34  0.02  0.38  0.07  0.19  0.00  0.00  0.00\n",
       "3       3  0.21  0.07  0.46  0.08  0.10  0.04  0.01  0.03\n",
       "4       2  0.61  0.00  0.20  0.08  0.06  0.00  0.00  0.05\n",
       "...    ..   ...   ...   ...   ...   ...   ...   ...   ...\n",
       "77131   0  0.81  0.02  0.11  0.03  0.00  0.00  0.00  0.03\n",
       "77132   7  0.42  0.04  0.26  0.08  0.05  0.05  0.03  0.07\n",
       "77133   0  0.50  0.00  0.26  0.03  0.17  0.02  0.00  0.02\n",
       "77134   4  0.36  0.19  0.11  0.06  0.02  0.05  0.03  0.18\n",
       "77135   0  0.46  0.24  0.04  0.03  0.18  0.02  0.00  0.03\n",
       "\n",
       "[77136 rows x 9 columns]"
      ]
     },
     "execution_count": 101,
     "metadata": {},
     "output_type": "execute_result"
    }
   ],
   "source": [
    "predict_test_label2"
   ]
  },
  {
   "cell_type": "code",
   "execution_count": 96,
   "metadata": {
    "ExecuteTime": {
     "end_time": "2020-05-08T09:07:51.753985Z",
     "start_time": "2020-05-08T09:07:50.244022Z"
    }
   },
   "outputs": [],
   "source": [
    "predict_train_label2.to_csv(\"predict_train_label.csv\")"
   ]
  }
 ],
 "metadata": {
  "kernelspec": {
   "display_name": "Python 3",
   "language": "python",
   "name": "python3"
  },
  "language_info": {
   "codemirror_mode": {
    "name": "ipython",
    "version": 3
   },
   "file_extension": ".py",
   "mimetype": "text/x-python",
   "name": "python",
   "nbconvert_exporter": "python",
   "pygments_lexer": "ipython3",
   "version": "3.7.6"
  },
  "toc": {
   "base_numbering": 1,
   "nav_menu": {},
   "number_sections": true,
   "sideBar": true,
   "skip_h1_title": false,
   "title_cell": "Table of Contents",
   "title_sidebar": "Contents",
   "toc_cell": false,
   "toc_position": {},
   "toc_section_display": true,
   "toc_window_display": false
  }
 },
 "nbformat": 4,
 "nbformat_minor": 4
}
